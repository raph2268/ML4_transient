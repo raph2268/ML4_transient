{
 "cells": [
  {
   "cell_type": "markdown",
   "id": "4eff0ffe-3daa-44bc-8043-5b011dba799a",
   "metadata": {},
   "source": [
    "Etude du modele en fonction des données d'entrainement et de test utilisé.\n",
    "\n",
    "Etude sur 4, 6, 12 visit et 1 visit: 80% pour train, 20% pour test\n",
    "\n",
    "Cas étudié :\n",
    "- Données totale d'entraienement correspondent à la somme des donnée de chaque visit ajouté de manière desordonné : le split est réalisé après la sommation des visit\n",
    "- Données d'une seule visite\n",
    "\n",
    "Le nombre de données d'entraienement est le meme pour les cas étudié. Le jeu de donnée de test est le meme. Des test sont également réalisé sur d'autre visit\n",
    "\n",
    "Comparaison avec accuracy et matrice de confusion, ROC curve et AUC"
   ]
  },
  {
   "cell_type": "markdown",
   "id": "054082a7-776a-43ba-b6f9-96fcbe7c827b",
   "metadata": {
    "tags": []
   },
   "source": [
    "\n",
    "Cas étudié :\n",
    "- Entrainement du model visit 90780 : save as /../model_90780.h5\n",
    "- Entrainement du model visit 100764 : save as /../model_100764.h5\n",
    "- Entrainement du model visit 101836 : save as /../model_101836.h5\n",
    "- Entrainement du model visit 89762 : save as /../model_89762.h5\n",
    "- Entrainement du model visit sur 4 visit 90780, 100764, 101836, 89762 : save as /../model_4_visit.h5\n",
    "- Entrainement du model visit sur 6 visit 90780, 100764, 101836, 89762, 97582, 104516 : save as /../model_6_visit.h5\n",
    "- Entrainement du model visit sur 12 visit 90780, 100764, 101836, 89762, 97582, 104516, 103076, 103166, 103712, 90752, 92502, 95084 : save as /../model_12_visit.h5"
   ]
  },
  {
   "cell_type": "markdown",
   "id": "cfddd605-8b65-41e1-9797-1ce4f16db794",
   "metadata": {
    "tags": []
   },
   "source": [
    "# Init python stuff"
   ]
  },
  {
   "cell_type": "code",
   "execution_count": 1,
   "id": "51454074-fefe-41b1-9a93-2ee1fe9d9bf7",
   "metadata": {},
   "outputs": [
    {
     "name": "stderr",
     "output_type": "stream",
     "text": [
      "2024-10-09 15:05:08.509139: I tensorflow/core/platform/cpu_feature_guard.cc:182] This TensorFlow binary is optimized to use available CPU instructions in performance-critical operations.\n",
      "To enable the following instructions: AVX2 FMA, in other operations, rebuild TensorFlow with the appropriate compiler flags.\n",
      "2024-10-09 15:05:10.261013: W tensorflow/compiler/tf2tensorrt/utils/py_utils.cc:38] TF-TRT Warning: Could not find TensorRT\n"
     ]
    }
   ],
   "source": [
    "import tensorflow as tf\n",
    "from tensorflow import keras\n",
    "\n",
    "import numpy as np\n",
    "import matplotlib.pyplot as plt\n",
    "\n",
    "\n",
    "import seaborn as sns\n",
    "import sys,os\n",
    "from importlib import reload\n",
    "from matplotlib_venn import venn2, venn3\n",
    "\n",
    "\n",
    "from sklearn.mixture import GaussianMixture\n",
    "from sklearn.manifold import TSNE\n",
    "from sklearn.model_selection import train_test_split\n",
    "from sklearn.metrics import ConfusionMatrixDisplay\n",
    "\n",
    "from keras_tuner import HyperModel\n",
    "from keras_tuner.tuners import BayesianOptimization\n",
    "from venny4py.venny4py import *\n",
    "from collections import Counter\n",
    "from matplotlib import pyplot as plt\n",
    "from upsetplot import generate_counts, plot,from_contents\n",
    "\n",
    "import pandas as pd\n",
    "pd.set_option('display.max_columns', None)\n",
    "\n",
    "from mpl_toolkits.axes_grid1 import make_axes_locatable\n",
    "\n",
    "os.environ['TF_CPP_MIN_LOG_LEVEL'] = '2' #Permet d'enlever les Warning tensorflow\n",
    "\n",
    "np.random.seed(1) # NumPy\n",
    "import random\n",
    "random.seed(2) # Python\n",
    "tf.random.set_seed(3) # Tensorflow \n",
    "\n",
    "sys.path.append('..')\n",
    "sys.path.append('/sps/lsst/users/rbonnetguerrini/ML4_transientV1/saved')\n",
    "\n",
    "from utils import ImageDisplayer, datadir, rundir, pddir\n",
    "from CNN_model import CNNHyperModel\n",
    "from Retrieve_data import retrieve_data, retrieve_data_gen3\n",
    "from df_bogus import trans_deg2, df_proba, spy\n",
    "\n",
    "imagedir = f'{rundir}/Compare_visit/Figure/'\n",
    "models = f'{rundir}/Compare_visit/models'"
   ]
  },
  {
   "cell_type": "code",
   "execution_count": 2,
   "id": "c1822909-6a01-424c-8702-f07c08acca51",
   "metadata": {},
   "outputs": [],
   "source": [
    "from evaluation import evaluating_model\n",
    "multiple_band_visits = [95092, 91556, 101500, 104516]\n"
   ]
  },
  {
   "cell_type": "code",
   "execution_count": 3,
   "id": "2219e87d-4291-471f-836c-a02199c89237",
   "metadata": {},
   "outputs": [],
   "source": [
    "import warnings; warnings.simplefilter('ignore')\n"
   ]
  },
  {
   "cell_type": "code",
   "execution_count": 4,
   "id": "ce6993e5-f619-488a-b2b0-66246a856c80",
   "metadata": {},
   "outputs": [],
   "source": [
    "#Allows you to display all the columns of the dataframe\n",
    "pd.set_option('display.max_columns', None)\n"
   ]
  },
  {
   "cell_type": "code",
   "execution_count": 5,
   "id": "7db03c97-5c8c-4e40-8eea-7c73e17360db",
   "metadata": {},
   "outputs": [],
   "source": [
    "test_size = 0.2\n",
    "nbre_data = 48093 # Nombre de donnée utilisé dans le cas d'une seule visite\n",
    "nombre_data = int(nbre_data/4) # Nombre de donnée utilisé dans le cas de concatenation de 4 visite"
   ]
  },
  {
   "cell_type": "code",
   "execution_count": 6,
   "id": "04347d5c-4b0f-4a25-9178-16c95c1c4cab",
   "metadata": {},
   "outputs": [
    {
     "name": "stdout",
     "output_type": "stream",
     "text": [
      "51\n",
      "105748\n",
      "108242\n",
      "89816\n",
      "104180\n",
      "95820\n",
      "102128\n",
      "97608\n",
      "105560\n",
      "110398\n"
     ]
    }
   ],
   "source": [
    "from pathlib import Path\n",
    "import re\n",
    "\n",
    "# Specify the directory path\n",
    "directory_path =Path(pddir)\n",
    "\n",
    "# Regular expression to match the number in the CSV file names\n",
    "pattern = re.compile(r'Cat_real_sources_visit_(\\d+)\\.csv')\n",
    "\n",
    "# List to hold the extracted numbers\n",
    "numbers = []\n",
    "\n",
    "# Extract the numbers\n",
    "for element in directory_path.iterdir():\n",
    "    if element.is_file() and element.suffix == '.csv':\n",
    "        match = pattern.search(element.name)\n",
    "        if match:\n",
    "            numbers.append(int(match.group(1)))\n",
    "\n",
    "# Print the extracted numbers\n",
    "print(len(numbers))\n",
    "\n",
    "for visit_id in numbers: \n",
    "    path = os.path.join(datadir, f\"Detected_real_sources_visit_{visit_id}.npy\")\n",
    "    if not os.path.exists(path): \n",
    "        print(visit_id)"
   ]
  },
  {
   "cell_type": "markdown",
   "id": "8977647a-591c-440a-90e4-1daeecaf8243",
   "metadata": {
    "tags": []
   },
   "source": [
    "# Test with Gen3 data"
   ]
  },
  {
   "cell_type": "markdown",
   "id": "64b1defb-ca5e-474d-a64f-d3a63e9d2a54",
   "metadata": {
    "tags": []
   },
   "source": [
    "## create my own pipeline"
   ]
  },
  {
   "cell_type": "code",
   "execution_count": 5,
   "id": "58f2b44d-8dc3-4cb0-bb40-71d28544a33b",
   "metadata": {
    "tags": []
   },
   "outputs": [],
   "source": [
    "data_322 = retrieve_data_gen3(visits=[322, 346], rotate = True)\n",
    "df_train_322, df_test_322, x_train_322, x_test_322, y_train_322, y_test_322 = data_322.data(test_size=test_size)\n"
   ]
  },
  {
   "cell_type": "code",
   "execution_count": 6,
   "id": "2f706727-539b-4a5d-b670-8c70deaf2082",
   "metadata": {},
   "outputs": [
    {
     "data": {
      "text/html": [
       "<div>\n",
       "<style scoped>\n",
       "    .dataframe tbody tr th:only-of-type {\n",
       "        vertical-align: middle;\n",
       "    }\n",
       "\n",
       "    .dataframe tbody tr th {\n",
       "        vertical-align: top;\n",
       "    }\n",
       "\n",
       "    .dataframe thead th {\n",
       "        text-align: right;\n",
       "    }\n",
       "</style>\n",
       "<table border=\"1\" class=\"dataframe\">\n",
       "  <thead>\n",
       "    <tr style=\"text-align: right;\">\n",
       "      <th></th>\n",
       "      <th>y_train</th>\n",
       "      <th>diaSourceId</th>\n",
       "      <th>visit</th>\n",
       "      <th>band</th>\n",
       "      <th>apFlux</th>\n",
       "      <th>apFluxErr</th>\n",
       "      <th>snr</th>\n",
       "    </tr>\n",
       "  </thead>\n",
       "  <tbody>\n",
       "    <tr>\n",
       "      <th>0</th>\n",
       "      <td>1</td>\n",
       "      <td>138388141244506</td>\n",
       "      <td>322</td>\n",
       "      <td>y</td>\n",
       "      <td>666.896505</td>\n",
       "      <td>678.177843</td>\n",
       "      <td>5.131612</td>\n",
       "    </tr>\n",
       "    <tr>\n",
       "      <th>1</th>\n",
       "      <td>0</td>\n",
       "      <td>148711095140438</td>\n",
       "      <td>346</td>\n",
       "      <td>y</td>\n",
       "      <td>-2343.878753</td>\n",
       "      <td>698.212791</td>\n",
       "      <td>5.677313</td>\n",
       "    </tr>\n",
       "    <tr>\n",
       "      <th>2</th>\n",
       "      <td>0</td>\n",
       "      <td>148693915271176</td>\n",
       "      <td>346</td>\n",
       "      <td>y</td>\n",
       "      <td>-113.80533</td>\n",
       "      <td>716.080019</td>\n",
       "      <td>8.881531</td>\n",
       "    </tr>\n",
       "    <tr>\n",
       "      <th>3</th>\n",
       "      <td>0</td>\n",
       "      <td>148730422493247</td>\n",
       "      <td>346</td>\n",
       "      <td>y</td>\n",
       "      <td>-225.311468</td>\n",
       "      <td>691.70138</td>\n",
       "      <td>5.598454</td>\n",
       "    </tr>\n",
       "    <tr>\n",
       "      <th>4</th>\n",
       "      <td>1</td>\n",
       "      <td>138403173629970</td>\n",
       "      <td>322</td>\n",
       "      <td>y</td>\n",
       "      <td>1821.701151</td>\n",
       "      <td>663.690714</td>\n",
       "      <td>6.763751</td>\n",
       "    </tr>\n",
       "    <tr>\n",
       "      <th>...</th>\n",
       "      <td>...</td>\n",
       "      <td>...</td>\n",
       "      <td>...</td>\n",
       "      <td>...</td>\n",
       "      <td>...</td>\n",
       "      <td>...</td>\n",
       "      <td>...</td>\n",
       "    </tr>\n",
       "    <tr>\n",
       "      <th>3630</th>\n",
       "      <td>0</td>\n",
       "      <td>148730422493282</td>\n",
       "      <td>346</td>\n",
       "      <td>y</td>\n",
       "      <td>-2748.86043</td>\n",
       "      <td>660.782947</td>\n",
       "      <td>6.210135</td>\n",
       "    </tr>\n",
       "    <tr>\n",
       "      <th>3631</th>\n",
       "      <td>0</td>\n",
       "      <td>138405321113702</td>\n",
       "      <td>322</td>\n",
       "      <td>y</td>\n",
       "      <td>-1615.231398</td>\n",
       "      <td>679.988963</td>\n",
       "      <td>9.0687</td>\n",
       "    </tr>\n",
       "    <tr>\n",
       "      <th>3632</th>\n",
       "      <td>0</td>\n",
       "      <td>148696062754826</td>\n",
       "      <td>346</td>\n",
       "      <td>y</td>\n",
       "      <td>-795.76414</td>\n",
       "      <td>692.847583</td>\n",
       "      <td>7.999061</td>\n",
       "    </tr>\n",
       "    <tr>\n",
       "      <th>3633</th>\n",
       "      <td>0</td>\n",
       "      <td>148711095140451</td>\n",
       "      <td>346</td>\n",
       "      <td>y</td>\n",
       "      <td>-531.848128</td>\n",
       "      <td>707.465804</td>\n",
       "      <td>14.95161</td>\n",
       "    </tr>\n",
       "    <tr>\n",
       "      <th>3634</th>\n",
       "      <td>0</td>\n",
       "      <td>138388141244426</td>\n",
       "      <td>322</td>\n",
       "      <td>y</td>\n",
       "      <td>-2239.15963</td>\n",
       "      <td>709.342218</td>\n",
       "      <td>5.051098</td>\n",
       "    </tr>\n",
       "  </tbody>\n",
       "</table>\n",
       "<p>3635 rows × 7 columns</p>\n",
       "</div>"
      ],
      "text/plain": [
       "      y_train      diaSourceId visit band       apFlux   apFluxErr       snr\n",
       "0           1  138388141244506   322    y   666.896505  678.177843  5.131612\n",
       "1           0  148711095140438   346    y -2343.878753  698.212791  5.677313\n",
       "2           0  148693915271176   346    y   -113.80533  716.080019  8.881531\n",
       "3           0  148730422493247   346    y  -225.311468   691.70138  5.598454\n",
       "4           1  138403173629970   322    y  1821.701151  663.690714  6.763751\n",
       "...       ...              ...   ...  ...          ...         ...       ...\n",
       "3630        0  148730422493282   346    y  -2748.86043  660.782947  6.210135\n",
       "3631        0  138405321113702   322    y -1615.231398  679.988963    9.0687\n",
       "3632        0  148696062754826   346    y   -795.76414  692.847583  7.999061\n",
       "3633        0  148711095140451   346    y  -531.848128  707.465804  14.95161\n",
       "3634        0  138388141244426   322    y  -2239.15963  709.342218  5.051098\n",
       "\n",
       "[3635 rows x 7 columns]"
      ]
     },
     "execution_count": 6,
     "metadata": {},
     "output_type": "execute_result"
    }
   ],
   "source": [
    "df_train_322"
   ]
  },
  {
   "cell_type": "code",
   "execution_count": 7,
   "id": "f16f6bef-5d46-40ec-a2b1-6acc7ec0358e",
   "metadata": {},
   "outputs": [
    {
     "data": {
      "text/html": [
       "<div>\n",
       "<style scoped>\n",
       "    .dataframe tbody tr th:only-of-type {\n",
       "        vertical-align: middle;\n",
       "    }\n",
       "\n",
       "    .dataframe tbody tr th {\n",
       "        vertical-align: top;\n",
       "    }\n",
       "\n",
       "    .dataframe thead th {\n",
       "        text-align: right;\n",
       "    }\n",
       "</style>\n",
       "<table border=\"1\" class=\"dataframe\">\n",
       "  <thead>\n",
       "    <tr style=\"text-align: right;\">\n",
       "      <th></th>\n",
       "      <th>y_test</th>\n",
       "      <th>diaSourceId</th>\n",
       "      <th>visit</th>\n",
       "      <th>band</th>\n",
       "      <th>apFlux</th>\n",
       "      <th>apFluxErr</th>\n",
       "      <th>snr</th>\n",
       "    </tr>\n",
       "  </thead>\n",
       "  <tbody>\n",
       "    <tr>\n",
       "      <th>0</th>\n",
       "      <td>0</td>\n",
       "      <td>138388141244446</td>\n",
       "      <td>322</td>\n",
       "      <td>y</td>\n",
       "      <td>2210.287179</td>\n",
       "      <td>735.392196</td>\n",
       "      <td>18.324314</td>\n",
       "    </tr>\n",
       "    <tr>\n",
       "      <th>1</th>\n",
       "      <td>0</td>\n",
       "      <td>148730422493311</td>\n",
       "      <td>346</td>\n",
       "      <td>y</td>\n",
       "      <td>-1659.536969</td>\n",
       "      <td>701.672086</td>\n",
       "      <td>10.589653</td>\n",
       "    </tr>\n",
       "    <tr>\n",
       "      <th>2</th>\n",
       "      <td>0</td>\n",
       "      <td>138422500982804</td>\n",
       "      <td>322</td>\n",
       "      <td>y</td>\n",
       "      <td>-580.901425</td>\n",
       "      <td>690.338025</td>\n",
       "      <td>8.012455</td>\n",
       "    </tr>\n",
       "    <tr>\n",
       "      <th>3</th>\n",
       "      <td>0</td>\n",
       "      <td>138405321113620</td>\n",
       "      <td>322</td>\n",
       "      <td>y</td>\n",
       "      <td>1421.108131</td>\n",
       "      <td>710.262995</td>\n",
       "      <td>15.39761</td>\n",
       "    </tr>\n",
       "    <tr>\n",
       "      <th>4</th>\n",
       "      <td>0</td>\n",
       "      <td>138385993760815</td>\n",
       "      <td>322</td>\n",
       "      <td>y</td>\n",
       "      <td>3327.313003</td>\n",
       "      <td>637.991519</td>\n",
       "      <td>7.67599</td>\n",
       "    </tr>\n",
       "    <tr>\n",
       "      <th>...</th>\n",
       "      <td>...</td>\n",
       "      <td>...</td>\n",
       "      <td>...</td>\n",
       "      <td>...</td>\n",
       "      <td>...</td>\n",
       "      <td>...</td>\n",
       "      <td>...</td>\n",
       "    </tr>\n",
       "    <tr>\n",
       "      <th>904</th>\n",
       "      <td>0</td>\n",
       "      <td>148730422493270</td>\n",
       "      <td>346</td>\n",
       "      <td>y</td>\n",
       "      <td>-2456.184541</td>\n",
       "      <td>671.707506</td>\n",
       "      <td>5.273296</td>\n",
       "    </tr>\n",
       "    <tr>\n",
       "      <th>905</th>\n",
       "      <td>1</td>\n",
       "      <td>148696062754913</td>\n",
       "      <td>346</td>\n",
       "      <td>y</td>\n",
       "      <td>344264.523288</td>\n",
       "      <td>699.66263</td>\n",
       "      <td>940.796082</td>\n",
       "    </tr>\n",
       "    <tr>\n",
       "      <th>906</th>\n",
       "      <td>0</td>\n",
       "      <td>148713242624075</td>\n",
       "      <td>346</td>\n",
       "      <td>y</td>\n",
       "      <td>4484.900693</td>\n",
       "      <td>663.898465</td>\n",
       "      <td>11.526451</td>\n",
       "    </tr>\n",
       "    <tr>\n",
       "      <th>907</th>\n",
       "      <td>0</td>\n",
       "      <td>148706800173090</td>\n",
       "      <td>346</td>\n",
       "      <td>y</td>\n",
       "      <td>84378.273909</td>\n",
       "      <td>846.111363</td>\n",
       "      <td>210.629715</td>\n",
       "    </tr>\n",
       "    <tr>\n",
       "      <th>908</th>\n",
       "      <td>0</td>\n",
       "      <td>138403173629979</td>\n",
       "      <td>322</td>\n",
       "      <td>y</td>\n",
       "      <td>-1425.725243</td>\n",
       "      <td>659.970753</td>\n",
       "      <td>7.197013</td>\n",
       "    </tr>\n",
       "  </tbody>\n",
       "</table>\n",
       "<p>909 rows × 7 columns</p>\n",
       "</div>"
      ],
      "text/plain": [
       "     y_test      diaSourceId visit band         apFlux   apFluxErr         snr\n",
       "0         0  138388141244446   322    y    2210.287179  735.392196   18.324314\n",
       "1         0  148730422493311   346    y   -1659.536969  701.672086   10.589653\n",
       "2         0  138422500982804   322    y    -580.901425  690.338025    8.012455\n",
       "3         0  138405321113620   322    y    1421.108131  710.262995    15.39761\n",
       "4         0  138385993760815   322    y    3327.313003  637.991519     7.67599\n",
       "..      ...              ...   ...  ...            ...         ...         ...\n",
       "904       0  148730422493270   346    y   -2456.184541  671.707506    5.273296\n",
       "905       1  148696062754913   346    y  344264.523288   699.66263  940.796082\n",
       "906       0  148713242624075   346    y    4484.900693  663.898465   11.526451\n",
       "907       0  148706800173090   346    y   84378.273909  846.111363  210.629715\n",
       "908       0  138403173629979   322    y   -1425.725243  659.970753    7.197013\n",
       "\n",
       "[909 rows x 7 columns]"
      ]
     },
     "execution_count": 7,
     "metadata": {},
     "output_type": "execute_result"
    }
   ],
   "source": [
    "df_test_322"
   ]
  },
  {
   "cell_type": "code",
   "execution_count": 8,
   "id": "57680718-d12d-4a38-9bd9-06423b238292",
   "metadata": {},
   "outputs": [],
   "source": [
    "# Recovery of normalize data and dataframe which contains features\n",
    "data_322 = retrieve_data_gen3(visits=322, rotate = True)\n",
    "df_train_322, df_test_322, x_train_322, x_test_322, y_train_322, y_test_322 = data_322.data(test_size=test_size)\n"
   ]
  },
  {
   "cell_type": "code",
   "execution_count": 9,
   "id": "c865dba8-7f55-4b2f-b2ed-c8dad463b45c",
   "metadata": {},
   "outputs": [
    {
     "name": "stdout",
     "output_type": "stream",
     "text": [
      "(1811, 30, 30, 1)\n",
      "(453, 30, 30, 1)\n",
      "(1811,)\n",
      "(453,)\n"
     ]
    }
   ],
   "source": [
    "print(x_train_322.shape)\n",
    "print(x_test_322.shape)\n",
    "print(y_train_322.shape)\n",
    "print(y_test_322.shape)\n"
   ]
  },
  {
   "cell_type": "code",
   "execution_count": 12,
   "id": "abaa46a4-eb36-42e9-a0c9-edfc734e9e3f",
   "metadata": {},
   "outputs": [
    {
     "data": {
      "text/plain": [
       "array([0, 0, 0, 1, 0, 1, 0, 0, 0, 0, 1, 0, 0, 0, 1, 0, 0, 0, 0, 0, 0, 0,\n",
       "       0, 1, 0, 0, 0, 1, 0, 0, 0, 0, 0, 0, 0, 1, 1, 0, 0, 1, 0, 1, 0, 0,\n",
       "       1, 0, 1, 0, 1, 0, 1, 0, 1, 0, 0, 0, 0, 0, 0, 0, 1, 0, 0, 0, 0, 0,\n",
       "       0, 0, 0, 0, 0, 0, 0, 0, 0, 0, 0, 1, 0, 0, 0, 0, 0, 0, 1, 0, 0, 0,\n",
       "       1, 0, 0, 0, 0, 0, 0, 0, 1, 0, 0, 1, 0, 0, 0, 0, 0, 0, 1, 1, 1, 0,\n",
       "       0, 0, 0, 0, 0])"
      ]
     },
     "execution_count": 12,
     "metadata": {},
     "output_type": "execute_result"
    }
   ],
   "source": [
    "y_test_322"
   ]
  },
  {
   "cell_type": "code",
   "execution_count": 3,
   "id": "192efa67-eed4-4e41-839e-8cb050e38829",
   "metadata": {},
   "outputs": [],
   "source": [
    "all_visits = [322, 346, 358, 1178, 1184, 1204, 1206, 1214, 1220, 1242, 1248, 11690,\n",
    "    11694, 11696, 11698, 11704, 11710, 11724, 11738, 11740, 17900, 17904,\n",
    "    17906, 17926, 17948, 17950, 19680, 19684, 19694, 19696, 22632, 22662,\n",
    "    23694, 23704, 23706, 23718, 29336, 29350, 30482, 30490]"
   ]
  },
  {
   "cell_type": "code",
   "execution_count": 10,
   "id": "4a93335d-8446-4c8e-8ab1-c787e0fe9a56",
   "metadata": {},
   "outputs": [],
   "source": [
    "from utils import All_visits_gen3\n",
    "data_all_visits = retrieve_data_gen3(visits=All_visits_gen3, rotate =True)\n",
    "df_train_all_visits, df_test_all_visits, x_train_all_visits, x_test_all_visits, y_train_all_visits, y_test_all_visits = data_all_visits.data(test_size=test_size)\n"
   ]
  },
  {
   "cell_type": "code",
   "execution_count": 11,
   "id": "01e553ec-b141-4d9f-8542-0b730ff85010",
   "metadata": {},
   "outputs": [
    {
     "name": "stdout",
     "output_type": "stream",
     "text": [
      "(185296, 30, 30, 1)\n",
      "(46324, 30, 30, 1)\n",
      "(185296,)\n",
      "(46324,)\n"
     ]
    }
   ],
   "source": [
    "print(x_train_all_visits.shape)\n",
    "print(x_test_all_visits.shape)\n",
    "print(y_train_all_visits.shape)\n",
    "print(y_test_all_visits.shape)"
   ]
  },
  {
   "cell_type": "markdown",
   "id": "c0e318fd-4e12-4eb2-b96d-d782afe909d1",
   "metadata": {
    "tags": []
   },
   "source": [
    "## Training "
   ]
  },
  {
   "cell_type": "code",
   "execution_count": 12,
   "id": "b01ee093-f014-4824-9fae-d8c813ac709a",
   "metadata": {},
   "outputs": [],
   "source": [
    "INPUT_SHAPE = (30,30,1) # Size of data\n",
    "NUM_CLASSES = 2 # Number of differente classe in data"
   ]
  },
  {
   "cell_type": "code",
   "execution_count": 13,
   "id": "897544f6-9b2d-4ea4-8f83-2451f403241e",
   "metadata": {
    "tags": []
   },
   "outputs": [],
   "source": [
    "#Tuner's settings\n",
    "MAX_EPOCHS = 50\n",
    "MAX_TRIALS = 1\n",
    "EXECUTION_PER_TRIAL = 5"
   ]
  },
  {
   "cell_type": "code",
   "execution_count": 14,
   "id": "2b0119b0-bc70-47da-9311-01fb9add9a84",
   "metadata": {},
   "outputs": [],
   "source": [
    "# Create the CNNHyperModel model\n",
    "model_all_visit = CNNHyperModel(input_shape=INPUT_SHAPE, num_classes=NUM_CLASSES, max_epochs=MAX_EPOCHS,\n",
    "                      max_trials=MAX_TRIALS, executions_per_trial=EXECUTION_PER_TRIAL,\n",
    "                      x_train = x_train_all_visits, x_test=x_test_all_visits, y_train=y_train_all_visits, y_test=y_test_all_visits)"
   ]
  },
  {
   "cell_type": "code",
   "execution_count": 15,
   "id": "1c28b595-a759-47e4-b35a-6fa0ff394f10",
   "metadata": {
    "tags": []
   },
   "outputs": [
    {
     "name": "stdout",
     "output_type": "stream",
     "text": [
      "Trial 1 Complete [00h 53m 03s]\n",
      "val_accuracy: 0.9640316128730774\n",
      "\n",
      "Best val_accuracy So Far: 0.9640316128730774\n",
      "Total elapsed time: 00h 53m 03s\n",
      "Epoch 1/50\n"
     ]
    },
    {
     "name": "stderr",
     "output_type": "stream",
     "text": [
      "2024-10-09 16:00:05.821999: E tensorflow/core/grappler/optimizers/meta_optimizer.cc:954] layout failed: INVALID_ARGUMENT: Size of values 0 does not match size of permutation 4 @ fanin shape insequential_1/dropout_3/dropout/SelectV2-2-TransposeNHWCToNCHW-LayoutOptimizer\n"
     ]
    },
    {
     "name": "stdout",
     "output_type": "stream",
     "text": [
      "1448/1448 [==============================] - 19s 11ms/step - loss: 0.1894 - accuracy: 0.9206 - val_loss: 0.1357 - val_accuracy: 0.9463\n",
      "Epoch 2/50\n",
      "1448/1448 [==============================] - 14s 10ms/step - loss: 0.1404 - accuracy: 0.9444 - val_loss: 0.1196 - val_accuracy: 0.9538\n",
      "Epoch 3/50\n",
      "1448/1448 [==============================] - 14s 10ms/step - loss: 0.1290 - accuracy: 0.9496 - val_loss: 0.1119 - val_accuracy: 0.9586\n",
      "Epoch 4/50\n",
      "1448/1448 [==============================] - 13s 9ms/step - loss: 0.1235 - accuracy: 0.9527 - val_loss: 0.1090 - val_accuracy: 0.9592\n",
      "Epoch 5/50\n",
      "1448/1448 [==============================] - 13s 9ms/step - loss: 0.1214 - accuracy: 0.9537 - val_loss: 0.1138 - val_accuracy: 0.9555\n",
      "Epoch 6/50\n",
      "1448/1448 [==============================] - 14s 9ms/step - loss: 0.1187 - accuracy: 0.9548 - val_loss: 0.1057 - val_accuracy: 0.9612\n",
      "Epoch 7/50\n",
      "1448/1448 [==============================] - 14s 9ms/step - loss: 0.1175 - accuracy: 0.9555 - val_loss: 0.1028 - val_accuracy: 0.9612\n",
      "Epoch 8/50\n",
      "1448/1448 [==============================] - 13s 9ms/step - loss: 0.1155 - accuracy: 0.9563 - val_loss: 0.1070 - val_accuracy: 0.9585\n",
      "Epoch 9/50\n",
      "1448/1448 [==============================] - 13s 9ms/step - loss: 0.1143 - accuracy: 0.9569 - val_loss: 0.1085 - val_accuracy: 0.9579\n",
      "Epoch 10/50\n",
      "1448/1448 [==============================] - 14s 10ms/step - loss: 0.1142 - accuracy: 0.9568 - val_loss: 0.1093 - val_accuracy: 0.9589\n",
      "Epoch 11/50\n",
      "1448/1448 [==============================] - 15s 10ms/step - loss: 0.1127 - accuracy: 0.9579 - val_loss: 0.1109 - val_accuracy: 0.9579\n",
      "Epoch 12/50\n",
      "1448/1448 [==============================] - 14s 10ms/step - loss: 0.1125 - accuracy: 0.9574 - val_loss: 0.1079 - val_accuracy: 0.9587\n",
      "Epoch 13/50\n",
      "1448/1448 [==============================] - 12s 9ms/step - loss: 0.1115 - accuracy: 0.9579 - val_loss: 0.1085 - val_accuracy: 0.9585\n",
      "Epoch 14/50\n",
      "1448/1448 [==============================] - 11s 8ms/step - loss: 0.1104 - accuracy: 0.9586 - val_loss: 0.1095 - val_accuracy: 0.9573\n",
      "Epoch 15/50\n",
      "1448/1448 [==============================] - 14s 9ms/step - loss: 0.1108 - accuracy: 0.9583 - val_loss: 0.1135 - val_accuracy: 0.9545\n",
      "Epoch 16/50\n",
      "1448/1448 [==============================] - 12s 9ms/step - loss: 0.1102 - accuracy: 0.9587 - val_loss: 0.1009 - val_accuracy: 0.9625\n",
      "Epoch 17/50\n",
      "1448/1448 [==============================] - 13s 9ms/step - loss: 0.1097 - accuracy: 0.9590 - val_loss: 0.1028 - val_accuracy: 0.9615\n",
      "Epoch 18/50\n",
      "1448/1448 [==============================] - 13s 9ms/step - loss: 0.1089 - accuracy: 0.9591 - val_loss: 0.1100 - val_accuracy: 0.9575\n",
      "Epoch 19/50\n",
      "1448/1448 [==============================] - 14s 10ms/step - loss: 0.1089 - accuracy: 0.9592 - val_loss: 0.1052 - val_accuracy: 0.9603\n",
      "Epoch 20/50\n",
      "1448/1448 [==============================] - 14s 10ms/step - loss: 0.1082 - accuracy: 0.9594 - val_loss: 0.1057 - val_accuracy: 0.9598\n",
      "Epoch 21/50\n",
      "1448/1448 [==============================] - 12s 8ms/step - loss: 0.1074 - accuracy: 0.9599 - val_loss: 0.1093 - val_accuracy: 0.9588\n",
      "Epoch 22/50\n",
      "1448/1448 [==============================] - 12s 9ms/step - loss: 0.1074 - accuracy: 0.9600 - val_loss: 0.1053 - val_accuracy: 0.9604\n",
      "Epoch 23/50\n",
      "1448/1448 [==============================] - 13s 9ms/step - loss: 0.1069 - accuracy: 0.9597 - val_loss: 0.1077 - val_accuracy: 0.9620\n",
      "Epoch 24/50\n",
      "1448/1448 [==============================] - 13s 9ms/step - loss: 0.1072 - accuracy: 0.9603 - val_loss: 0.0988 - val_accuracy: 0.9634\n",
      "Epoch 25/50\n",
      "1448/1448 [==============================] - 13s 9ms/step - loss: 0.1060 - accuracy: 0.9603 - val_loss: 0.1024 - val_accuracy: 0.9615\n",
      "Epoch 26/50\n",
      "1448/1448 [==============================] - 11s 8ms/step - loss: 0.1069 - accuracy: 0.9596 - val_loss: 0.1114 - val_accuracy: 0.9563\n",
      "Epoch 27/50\n",
      "1448/1448 [==============================] - 12s 9ms/step - loss: 0.1054 - accuracy: 0.9605 - val_loss: 0.1055 - val_accuracy: 0.9614\n",
      "Epoch 28/50\n",
      "1448/1448 [==============================] - 14s 9ms/step - loss: 0.1057 - accuracy: 0.9606 - val_loss: 0.1080 - val_accuracy: 0.9583\n",
      "Epoch 29/50\n",
      "1448/1448 [==============================] - 15s 10ms/step - loss: 0.1058 - accuracy: 0.9605 - val_loss: 0.1033 - val_accuracy: 0.9603\n",
      "Epoch 30/50\n",
      "1448/1448 [==============================] - 15s 10ms/step - loss: 0.1049 - accuracy: 0.9609 - val_loss: 0.1039 - val_accuracy: 0.9597\n",
      "Epoch 31/50\n",
      "1448/1448 [==============================] - 14s 10ms/step - loss: 0.1052 - accuracy: 0.9611 - val_loss: 0.1105 - val_accuracy: 0.9576\n",
      "Epoch 32/50\n",
      "1448/1448 [==============================] - 15s 10ms/step - loss: 0.1049 - accuracy: 0.9612 - val_loss: 0.1051 - val_accuracy: 0.9606\n",
      "Epoch 33/50\n",
      "1448/1448 [==============================] - 14s 10ms/step - loss: 0.1050 - accuracy: 0.9604 - val_loss: 0.1050 - val_accuracy: 0.9604\n",
      "Epoch 34/50\n",
      "1448/1448 [==============================] - 14s 10ms/step - loss: 0.1045 - accuracy: 0.9612 - val_loss: 0.1023 - val_accuracy: 0.9619\n",
      "Epoch 35/50\n",
      "1448/1448 [==============================] - 12s 8ms/step - loss: 0.1032 - accuracy: 0.9615 - val_loss: 0.0990 - val_accuracy: 0.9644\n",
      "Epoch 36/50\n",
      "1448/1448 [==============================] - 13s 9ms/step - loss: 0.1032 - accuracy: 0.9619 - val_loss: 0.1052 - val_accuracy: 0.9608\n",
      "Epoch 37/50\n",
      "1448/1448 [==============================] - 14s 10ms/step - loss: 0.1041 - accuracy: 0.9611 - val_loss: 0.1020 - val_accuracy: 0.9612\n",
      "Epoch 38/50\n",
      "1448/1448 [==============================] - 12s 9ms/step - loss: 0.1032 - accuracy: 0.9616 - val_loss: 0.1054 - val_accuracy: 0.9601\n",
      "Epoch 39/50\n",
      "1448/1448 [==============================] - 11s 8ms/step - loss: 0.1029 - accuracy: 0.9620 - val_loss: 0.1021 - val_accuracy: 0.9614\n",
      "Epoch 40/50\n",
      "1448/1448 [==============================] - 11s 8ms/step - loss: 0.1028 - accuracy: 0.9619 - val_loss: 0.1107 - val_accuracy: 0.9589\n",
      "Epoch 41/50\n",
      "1448/1448 [==============================] - 11s 8ms/step - loss: 0.1030 - accuracy: 0.9617 - val_loss: 0.1018 - val_accuracy: 0.9609\n",
      "Epoch 42/50\n",
      "1448/1448 [==============================] - 13s 9ms/step - loss: 0.1026 - accuracy: 0.9621 - val_loss: 0.1055 - val_accuracy: 0.9592\n",
      "Epoch 43/50\n",
      "1448/1448 [==============================] - 13s 9ms/step - loss: 0.1023 - accuracy: 0.9623 - val_loss: 0.1043 - val_accuracy: 0.9596\n",
      "Epoch 44/50\n",
      "1448/1448 [==============================] - 14s 10ms/step - loss: 0.1026 - accuracy: 0.9619 - val_loss: 0.1045 - val_accuracy: 0.9602\n",
      "Epoch 45/50\n",
      "1448/1448 [==============================] - 13s 9ms/step - loss: 0.1027 - accuracy: 0.9620 - val_loss: 0.1059 - val_accuracy: 0.9591\n",
      "Epoch 46/50\n",
      "1448/1448 [==============================] - 12s 8ms/step - loss: 0.1020 - accuracy: 0.9621 - val_loss: 0.1028 - val_accuracy: 0.9615\n",
      "Epoch 47/50\n",
      "1448/1448 [==============================] - 11s 8ms/step - loss: 0.1016 - accuracy: 0.9626 - val_loss: 0.1152 - val_accuracy: 0.9559\n",
      "Epoch 48/50\n",
      "1448/1448 [==============================] - 12s 8ms/step - loss: 0.1007 - accuracy: 0.9629 - val_loss: 0.1103 - val_accuracy: 0.9578\n",
      "Epoch 49/50\n",
      "1448/1448 [==============================] - 14s 10ms/step - loss: 0.1003 - accuracy: 0.9630 - val_loss: 0.1006 - val_accuracy: 0.9619\n",
      "Epoch 50/50\n",
      "1448/1448 [==============================] - 12s 8ms/step - loss: 0.1018 - accuracy: 0.9623 - val_loss: 0.1076 - val_accuracy: 0.9592\n",
      "1448/1448 [==============================] - 5s 3ms/step - loss: 0.0951 - accuracy: 0.9647\n"
     ]
    },
    {
     "name": "stderr",
     "output_type": "stream",
     "text": [
      "2024-10-09 16:11:16.678853: E tensorflow/core/grappler/optimizers/meta_optimizer.cc:954] layout failed: INVALID_ARGUMENT: Size of values 0 does not match size of permutation 4 @ fanin shape insequential/dropout/dropout/SelectV2-2-TransposeNHWCToNCHW-LayoutOptimizer\n"
     ]
    }
   ],
   "source": [
    "#Train the CNNHyperModel model\n",
    "best_model, history = model_all_visit.Entrainement_bayes()"
   ]
  },
  {
   "cell_type": "code",
   "execution_count": null,
   "id": "51e3787e-3d36-4026-bb9d-3df591f1763b",
   "metadata": {},
   "outputs": [],
   "source": [
    "\n",
    "best_model.save('ML4_transientV3/Compare_visit/models/model_all_gen3_rotate.h5')"
   ]
  },
  {
   "cell_type": "code",
   "execution_count": null,
   "id": "946590cf-6239-4a23-844e-7f909b934460",
   "metadata": {},
   "outputs": [],
   "source": [
    "ig, axes = plt.subplots(2, 1, figsize=(10, 10))\n",
    "\n",
    "for i, hist in enumerate(history):\n",
    "    # Plot loss\n",
    "    axes[0].plot(hist['loss'], label=f'Trial {i+1} - Training Loss')\n",
    "    axes[0].plot(hist['val_loss'], '--', label=f'Trial {i+1} - Validation Loss')\n",
    "\n",
    "    # Plot accuracy\n",
    "    axes[1].plot(hist['accuracy'], label=f'Trial {i+1} - Training Accuracy')\n",
    "    axes[1].plot(hist['val_accuracy'], '--', label=f'Trial {i+1} - Validation Accuracy')\n",
    "\n",
    "axes[0].set_title('Loss over epochs')\n",
    "axes[0].set_xlabel('Epochs')\n",
    "axes[0].set_ylabel('Loss')\n",
    "axes[0].legend()\n",
    "\n",
    "axes[1].set_title('Accuracy over epochs')\n",
    "axes[1].set_xlabel('Epochs')\n",
    "axes[1].set_ylabel('Accuracy')\n",
    "axes[1].legend()\n",
    "\n",
    "plt.tight_layout()\n",
    "plt.show()"
   ]
  },
  {
   "cell_type": "markdown",
   "id": "35b75fcf-28fd-455d-bc8a-23cc967a230f",
   "metadata": {
    "tags": []
   },
   "source": [
    "## Evaluate the model "
   ]
  },
  {
   "cell_type": "code",
   "execution_count": null,
   "id": "95cf2d17-547b-4e1f-a728-af7a74974d3c",
   "metadata": {},
   "outputs": [],
   "source": [
    "hypermodel_gen3 = tf.keras.models.load_model(f'{rundir}/Compare_visit/models/model_all_gen3.h5')"
   ]
  },
  {
   "cell_type": "code",
   "execution_count": null,
   "id": "790a6519-91f9-4329-abb0-a81c0e9985ad",
   "metadata": {},
   "outputs": [],
   "source": [
    "\n",
    "evaluation = evaluating_model(model='model_all_gen3', visit=multiple_band_visits)\n"
   ]
  },
  {
   "cell_type": "code",
   "execution_count": null,
   "id": "82939362-bbcd-4781-8b75-a66a7ac1b8de",
   "metadata": {},
   "outputs": [],
   "source": [
    "evaluation.full_evaluation_plot()"
   ]
  },
  {
   "cell_type": "code",
   "execution_count": null,
   "id": "8e4de06a-61b0-4cb9-a35d-e09fd7f73681",
   "metadata": {},
   "outputs": [],
   "source": [
    "# Recovery of normalize data and dataframe which contains features\n",
    "data_322 = retriev_data(visits=322)\n",
    "df_train_322, df_test_322, x_train_322, x_test_322, y_train_322, y_test_322 = data_322.data(test_size=test_size)\n"
   ]
  },
  {
   "cell_type": "code",
   "execution_count": null,
   "id": "8b179e68-b547-4553-a6b7-c55609c66402",
   "metadata": {},
   "outputs": [],
   "source": [
    "#Evaluate the model on testing set\n",
    "score_best_model_global_all_visit = hypermodel_90780.evaluate(x_test_322, y_test_322, verbose=1)\n",
    "\n",
    "y_sigmoid_all_visit_322 = hypermodel_90780.predict(x_test_322) #Table de probabilité\n",
    "df_test_322['y_pred_best_model_all_visit'] = np.argmax(y_sigmoid_all_visit_322, axis=-1) #Permet de recuperer la classe d'apartenance\n",
    "score_best_model_global_all_visit"
   ]
  },
  {
   "cell_type": "code",
   "execution_count": null,
   "id": "99cf45d1-fba3-45cc-afa8-7ac89374351c",
   "metadata": {},
   "outputs": [],
   "source": [
    "from utils import datadir\n",
    "visit = 322"
   ]
  },
  {
   "cell_type": "code",
   "execution_count": null,
   "id": "a202f9a6-02e3-41d3-be74-b8ae2c146c91",
   "metadata": {
    "tags": []
   },
   "outputs": [],
   "source": [
    "data = np.load(os.path.join(datadir,f\"cutouts/Detected_obj_sources_visit_{visit}.npy\"))\n",
    "data[1]"
   ]
  },
  {
   "cell_type": "code",
   "execution_count": null,
   "id": "2e9d5163-9530-4948-8734-9b5f350c2a85",
   "metadata": {},
   "outputs": [],
   "source": [
    "#Evaluate the model on testing set\n",
    "score_90780 = best_model.evaluate(x_test_90780, y_test_90780, verbose=1)\n",
    "\n",
    "y_sigmoid_90780 = hypermodel_90780.predict(x_test_90780) #Table de probabilité\n",
    "df_test_90780['y_pred'] = np.argmax(y_sigmoid_90780, axis=-1) #Permet de recuperer la classe d'apartenance\n",
    "score_90780"
   ]
  },
  {
   "cell_type": "code",
   "execution_count": null,
   "id": "2cf598b7-606b-4453-bfe5-fee41acc8863",
   "metadata": {},
   "outputs": [],
   "source": [
    "#Evaluate the model on the visit 93404 in order to compare with train on 4 visit\n",
    "score_90780_93404 = hypermodel_90780.evaluate(x_test_93404, y_test_93404, verbose=0)\n",
    "\n",
    "y_sigmoid_90780_93404 = hypermodel_90780.predict(x_test_93404) #Table de probabilité\n",
    "df_test_93404['y_pred_model_90780'] = np.argmax(y_sigmoid_90780_93404, axis=-1) #Permet de recuperer la classe d'apartenance"
   ]
  },
  {
   "cell_type": "markdown",
   "id": "c9a3a1ad-ff47-45ea-afe1-cab407a48db1",
   "metadata": {
    "tags": []
   },
   "source": [
    "# Retrieve data"
   ]
  },
  {
   "cell_type": "markdown",
   "id": "951f38a7-f763-44b7-b6f7-230b18dca5c9",
   "metadata": {
    "jp-MarkdownHeadingCollapsed": true,
    "tags": []
   },
   "source": [
    "## Chargement des données pour etude sur plusieurs visit"
   ]
  },
  {
   "cell_type": "markdown",
   "id": "1c296d4f-da26-4a00-a167-42251a056819",
   "metadata": {},
   "source": [
    "Les données d'entrainement sont ajouté les unes apres les autres, ils n'y a pas de melande entre les differentes visites"
   ]
  },
  {
   "cell_type": "code",
   "execution_count": null,
   "id": "a95655fc-9098-4882-b213-0c9ecc79640a",
   "metadata": {
    "tags": []
   },
   "outputs": [],
   "source": [
    "nbre_visit_4=[90780, 100764, 101836, 89762]\n"
   ]
  },
  {
   "cell_type": "code",
   "execution_count": null,
   "id": "a0a44a47-7b12-47dc-89a8-5789cb0e3e61",
   "metadata": {
    "tags": []
   },
   "outputs": [],
   "source": [
    "# Recovery of normalize data and dataframe which contains features\n",
    "data = retrieve_data(nbre_visit=nbre_visit_4, nbre_data = nbre_data)\n",
    "df_train_4_visit, df_test_4_visit, x_train_4_visit, x_test_4_visit, y_train_4_visit, y_test_4_visit = data.donnees(test_size=test_size)\n"
   ]
  },
  {
   "cell_type": "code",
   "execution_count": null,
   "id": "33953eae-0a67-4535-9af0-dc818e797085",
   "metadata": {
    "tags": []
   },
   "outputs": [],
   "source": [
    "nbre_visit_6=[90780, 100764, 101836, 89762, 97582, 104516]\n"
   ]
  },
  {
   "cell_type": "code",
   "execution_count": null,
   "id": "f4f8ff2a-72cf-47b0-a9bd-db4cc25e6b01",
   "metadata": {},
   "outputs": [],
   "source": [
    "# Recovery of normalize data and dataframe which contains features\n",
    "data = retrieve_data(nbre_visit=nbre_visit_6, nbre_data = nbre_data)\n",
    "df_train_6_visit, df_test_6_visit, x_train_6_visit, x_test_6_visit, y_train_6_visit, y_test_6_visit = data.donnees(test_size=test_size)"
   ]
  },
  {
   "cell_type": "code",
   "execution_count": null,
   "id": "a0a6c589-9957-4380-804f-25ff715d053b",
   "metadata": {},
   "outputs": [],
   "source": [
    "nbre_visit_12=[90780, 100764, 101836, 89762, 97582, 104516, 103076, 103166, 103712, 90752, 92502, 95084]\n"
   ]
  },
  {
   "cell_type": "code",
   "execution_count": null,
   "id": "4ff49df9-4d0a-4a95-b8be-f6f6f998a775",
   "metadata": {},
   "outputs": [],
   "source": [
    "# Recovery of normalize data and dataframe which contains features\n",
    "data_12_visit = retrieve_data(nbre_visit=nbre_visit_12, nbre_data = nbre_data)\n",
    "df_train_12_visit, df_test_12_visit, x_train_12_visit, x_test_12_visit, y_train_12_visit, y_test_12_visit = data_12_visit.donnees(test_size=test_size)\n"
   ]
  },
  {
   "cell_type": "code",
   "execution_count": null,
   "id": "bc1694df-ac23-41ef-8861-ee646e14e0f0",
   "metadata": {},
   "outputs": [],
   "source": [
    "#\n",
    "nbre_visit_42 = [91922, 103076, 114502, 102426, 92502, 93404, 106144, 106532, 95084, 96898, 103712, 107882, 104856, 97026, 111352, 113142, 100824, 111426, 113476, 95148, 90780, 104516, 91898, 96222, 91556, 93410, 106078, 113176, 97582, 89762, 105108, 101500, 101836, 103166, 106342, 107976, 95092, 100764, 104618, 108216, 90752, 108692]"
   ]
  },
  {
   "cell_type": "code",
   "execution_count": null,
   "id": "87250111-3566-4e2e-b020-1f5db0292203",
   "metadata": {},
   "outputs": [],
   "source": [
    "# Recovery of normalize data and dataframe which contains features\n",
    "data_42_visit = retrieve_data(nbre_visit=nbre_visit_42, nbre_data = nbre_data)\n",
    "df_train_42_visit, df_test_42_visit, x_train_42_visit, x_test_42_visit, y_train_42_visit, y_test_42_visit = data_42_visit.donnees(test_size=test_size)\n"
   ]
  },
  {
   "cell_type": "code",
   "execution_count": null,
   "id": "3097d717-54b0-4b73-a0b7-e031732512fc",
   "metadata": {},
   "outputs": [],
   "source": [
    "print(len(df_train_42_visit))\n",
    "print(len(df_train_4_visit))"
   ]
  },
  {
   "cell_type": "markdown",
   "id": "d7370243-e163-469d-8464-e6796682b512",
   "metadata": {
    "jp-MarkdownHeadingCollapsed": true,
    "tags": []
   },
   "source": [
    "## Chargement données pour etude visit par visit"
   ]
  },
  {
   "cell_type": "code",
   "execution_count": 14,
   "id": "3a30d894-874e-4ea8-b5f3-919964ab43fa",
   "metadata": {},
   "outputs": [],
   "source": [
    "# Recovery of normalize data and dataframe which contains features\n",
    "data_90780 = retrieve_data(nbre_visit=90780, nbre_data = nbre_data)\n",
    "df_train_90780, df_test_90780, x_train_90780, x_test_90780, y_train_90780, y_test_90780 = data_90780.donnees(test_size=test_size)\n"
   ]
  },
  {
   "cell_type": "code",
   "execution_count": 15,
   "id": "4a3e7726-6347-4687-abf9-510ac5e958d1",
   "metadata": {},
   "outputs": [
    {
     "name": "stdout",
     "output_type": "stream",
     "text": [
      "(42690, 30, 30, 1)\n",
      "(10673, 30, 30, 1)\n",
      "(42690,)\n",
      "(10673,)\n"
     ]
    }
   ],
   "source": [
    "print(x_train_90780.shape)\n",
    "print(x_test_90780.shape)\n",
    "print(y_train_90780.shape)\n",
    "print(y_test_90780.shape)\n",
    "\n"
   ]
  },
  {
   "cell_type": "code",
   "execution_count": 9,
   "id": "1ae84668-2654-4c77-a584-6665f92ee8e6",
   "metadata": {},
   "outputs": [
    {
     "ename": "AttributeError",
     "evalue": "'numpy.ndarray' object has no attribute 'type'",
     "output_type": "error",
     "traceback": [
      "\u001b[0;31m---------------------------------------------------------------------------\u001b[0m",
      "\u001b[0;31mAttributeError\u001b[0m                            Traceback (most recent call last)",
      "Cell \u001b[0;32mIn[9], line 1\u001b[0m\n\u001b[0;32m----> 1\u001b[0m \u001b[43mx_test_90780\u001b[49m\u001b[38;5;241;43m.\u001b[39;49m\u001b[43mtype\u001b[49m\n",
      "\u001b[0;31mAttributeError\u001b[0m: 'numpy.ndarray' object has no attribute 'type'"
     ]
    }
   ],
   "source": [
    "x_test_90780.type"
   ]
  },
  {
   "cell_type": "code",
   "execution_count": null,
   "id": "e1ae76f7-d387-4099-80bf-12d6c2fb6074",
   "metadata": {},
   "outputs": [],
   "source": [
    "# Recovery of normalize data and dataframe which contains features\n",
    "data_100764 = retrieve_data(nbre_visit=100764, nbre_data = nbre_data)\n",
    "df_train_100764, df_test_100764, x_train_100764, x_test_100764, y_train_100764, y_test_100764 = data_100764.donnees(test_size=test_size)\n"
   ]
  },
  {
   "cell_type": "code",
   "execution_count": null,
   "id": "91340158-3e1c-4a77-a0f1-08c57f630e86",
   "metadata": {},
   "outputs": [],
   "source": [
    "# Recovery of normalize data and dataframe which contains features\n",
    "data_101836 = retrieve_data(nbre_visit=101836, nbre_data = nbre_data)\n",
    "df_train_101836, df_test_101836, x_train_101836, x_test_101836, y_train_101836, y_test_101836 = data_101836.donnees(test_size=test_size)\n"
   ]
  },
  {
   "cell_type": "code",
   "execution_count": null,
   "id": "19266ff3-3631-40f9-b54c-4017d1e11915",
   "metadata": {},
   "outputs": [],
   "source": [
    "# Recovery of normalize data and dataframe which contains features\n",
    "data_89762 = retrieve_data(nbre_visit=89762, nbre_data = nbre_data)\n",
    "df_train_89762, df_test_89762, x_train_89762, x_test_89762, y_train_89762, y_test_89762 = data_89762.donnees(test_size=test_size)\n"
   ]
  },
  {
   "cell_type": "markdown",
   "id": "dcf78819-6302-4642-b1c5-c26f9e1723bd",
   "metadata": {
    "tags": []
   },
   "source": [
    "# Test data\n",
    "\n",
    "Données de test utilisé commune a tout les model : visit 93404"
   ]
  },
  {
   "cell_type": "code",
   "execution_count": 16,
   "id": "a725ae5b-9bf7-4264-965d-a9ae3aba5c04",
   "metadata": {},
   "outputs": [],
   "source": [
    "# Recovery of normalize data and dataframe which contains features\n",
    "data_93404 = retrieve_data(nbre_visit=93404)\n",
    "df_train_93404, df_test_93404, x_train_93404, x_test_93404, y_train_93404, y_test_93404 = data_93404.donnees(test_size=test_size)"
   ]
  },
  {
   "cell_type": "markdown",
   "id": "a8e54418-6aec-4a9c-a210-5edf286ac0e0",
   "metadata": {
    "tags": []
   },
   "source": [
    "# Parametre model"
   ]
  },
  {
   "cell_type": "code",
   "execution_count": 17,
   "id": "496e88c2-251e-40ed-af2b-32bd4a6342c8",
   "metadata": {},
   "outputs": [],
   "source": [
    "INPUT_SHAPE = (30,30,1) # Size of data\n",
    "NUM_CLASSES = 2 # Number of differente classe in data"
   ]
  },
  {
   "cell_type": "code",
   "execution_count": 20,
   "id": "f228b82a-7b3f-42ff-9384-3a99d8e5281e",
   "metadata": {
    "tags": []
   },
   "outputs": [],
   "source": [
    "#Tuner's settings\n",
    "MAX_EPOCHS = 20\n",
    "MAX_TRIALS = 5\n",
    "EXECUTION_PER_TRIAL = 2"
   ]
  },
  {
   "cell_type": "markdown",
   "id": "cef3b0b8-0494-4cb7-bd22-9265753d77b4",
   "metadata": {
    "jp-MarkdownHeadingCollapsed": true,
    "tags": []
   },
   "source": [
    "# Entrainement du model avec toute les données melangé 4 visits"
   ]
  },
  {
   "cell_type": "code",
   "execution_count": null,
   "id": "9b9bc225-368e-429e-9c92-0a111b0290a3",
   "metadata": {},
   "outputs": [],
   "source": [
    "# Create the CNNHyperModel model\n",
    "model_4_visit = CNNHyperModel(input_shape=INPUT_SHAPE, num_classes=NUM_CLASSES, hyperband_max_epochs=HYPERBAND_MAX_EPOCHS,\n",
    "                      max_trials=MAX_TRIALS, executions_per_trial=EXECUTION_PER_TRIAL,\n",
    "                      x_train = x_train_4_visit, x_test=x_test_4_visit, y_train=y_train_4_visit, y_test=y_test_4_visit)\n"
   ]
  },
  {
   "cell_type": "code",
   "execution_count": null,
   "id": "126d9f7f-1fa1-41d7-9bcd-b792dbf01615",
   "metadata": {},
   "outputs": [],
   "source": [
    "#Train the CNNHyperModel model\n",
    "#hypermodel_4_visit, history_4_visit = model_4_visit.Entrainement_bayes()"
   ]
  },
  {
   "cell_type": "code",
   "execution_count": null,
   "id": "a3db3d8b-c77e-4ca5-be30-6ad14ca9b736",
   "metadata": {},
   "outputs": [],
   "source": [
    "#hypermodel_4_visit.save(f'{rundir}/Compare_visit/models/model_4_visit.h5')"
   ]
  },
  {
   "cell_type": "code",
   "execution_count": null,
   "id": "419f1808-3a32-4441-895f-12e97fe13228",
   "metadata": {},
   "outputs": [],
   "source": [
    "hypermodel_4_visit = tf.keras.models.load_model(f'{rundir}/Compare_visit/models/model_4_visit.h5')"
   ]
  },
  {
   "cell_type": "code",
   "execution_count": null,
   "id": "aead645e-a670-41a8-8ed2-6d7726650f48",
   "metadata": {},
   "outputs": [],
   "source": [
    "model_ = 'model_4_visit'\n",
    "evaluation = evaluating_model(model=model_, visit=multiple_band_visits)\n"
   ]
  },
  {
   "cell_type": "code",
   "execution_count": null,
   "id": "be85e969-a48a-4bfb-8ac2-3fef4dcadecd",
   "metadata": {
    "tags": []
   },
   "outputs": [],
   "source": [
    "evaluation.full_evaluation_plot()"
   ]
  },
  {
   "cell_type": "code",
   "execution_count": null,
   "id": "2f48845e-1a2b-4a66-a9d8-ea92000e49e0",
   "metadata": {},
   "outputs": [],
   "source": [
    "#Evaluate the model on testing set\n",
    "score_best_model_global_4_visit = hypermodel_4_visit.evaluate(x_test_93404, y_test_93404, verbose=0)\n",
    "\n",
    "y_sigmoid_4_visit_93404 = hypermodel_4_visit.predict(x_test_93404) #Table de probabilité\n",
    "df_test_93404['y_pred_best_model_4_visit'] = np.argmax(y_sigmoid_4_visit_93404, axis=-1) #Permet de recuperer la classe d'apartenance\n"
   ]
  },
  {
   "cell_type": "code",
   "execution_count": null,
   "id": "d16b2774-5a08-461c-b0e9-d6e76ba95125",
   "metadata": {},
   "outputs": [],
   "source": [
    "#Evaluate the model on the visit 93404 in order to compare with train on 4 visit\n",
    "score_best_model_global_4_visit_90780 = hypermodel_4_visit.evaluate(x_test_90780, y_test_90780, verbose=0)\n",
    "\n",
    "y_sigmoid_4_visit_90780 = hypermodel_4_visit.predict(x_test_90780) #Table de probabilité\n",
    "df_test_90780['y_pred_best_model_4_visit_90780'] = np.argmax(y_sigmoid_4_visit_90780, axis=-1) #Permet de recuperer la classe d'apartenance"
   ]
  },
  {
   "cell_type": "code",
   "execution_count": null,
   "id": "8c29b7f4-b3ae-4553-9929-1398469e5433",
   "metadata": {},
   "outputs": [],
   "source": [
    "#Evaluate the model on the visit 93404 in order to compare with train on 4 visit\n",
    "score_best_model_global_4_visit_101836 = hypermodel_4_visit.evaluate(x_test_101836, y_test_101836, verbose=0)\n",
    "\n",
    "y_sigmoid_4_visit_101836 = hypermodel_4_visit.predict(x_test_101836) #Table de probabilité\n",
    "df_test_101836['y_pred_best_model_4_visit_101836'] = np.argmax(y_sigmoid_4_visit_101836, axis=-1) #Permet de recuperer la classe d'apartenance"
   ]
  },
  {
   "cell_type": "markdown",
   "id": "b084f5b4-2cd0-424b-8720-cd8fbe8afd0f",
   "metadata": {
    "jp-MarkdownHeadingCollapsed": true,
    "tags": []
   },
   "source": [
    "# Entrainement du model avec toute les données melangé 6 visits"
   ]
  },
  {
   "cell_type": "code",
   "execution_count": null,
   "id": "0c5e055b-c6c9-4862-abc8-4a5f945714c9",
   "metadata": {},
   "outputs": [],
   "source": [
    "# Create the CNNHyperModel model\n",
    "model_6_visit = CNNHyperModel(input_shape=INPUT_SHAPE, num_classes=NUM_CLASSES, hyperband_max_epochs=HYPERBAND_MAX_EPOCHS,\n",
    "                      max_trials=MAX_TRIALS, executions_per_trial=EXECUTION_PER_TRIAL,\n",
    "                      x_train = x_train_6_visit, x_test=x_test_6_visit, y_train=y_train_6_visit, y_test=y_test_6_visit)\n"
   ]
  },
  {
   "cell_type": "code",
   "execution_count": null,
   "id": "d94505d1-3606-4251-80de-6748512a2392",
   "metadata": {
    "tags": []
   },
   "outputs": [],
   "source": [
    "#Train the CNNHyperModel model\n",
    "#hypermodel_6_visit, history_6_visit = model_6_visit.Entrainement_bayes()"
   ]
  },
  {
   "cell_type": "code",
   "execution_count": null,
   "id": "7f089779-2094-4644-8dab-e0b4d8dd6c41",
   "metadata": {},
   "outputs": [],
   "source": [
    "#hypermodel_6_visit.save(f'{rundir}/Compare_visit/models/model_6_visit.h5')"
   ]
  },
  {
   "cell_type": "code",
   "execution_count": null,
   "id": "6f9d27ac-badb-4f65-8867-8dcc1518c071",
   "metadata": {},
   "outputs": [],
   "source": [
    "hypermodel_6_visit = tf.keras.models.load_model(f'{rundir}Compare_visit/models/model_6_visit.h5')"
   ]
  },
  {
   "cell_type": "code",
   "execution_count": null,
   "id": "e077f02d-f2aa-438c-8983-8ce834bdf2bf",
   "metadata": {},
   "outputs": [],
   "source": [
    "#Evaluate the model on testing set\n",
    "score_best_model_global_6_visit = hypermodel_6_visit.evaluate(x_test_93404, y_test_93404, verbose=0)\n",
    "\n",
    "y_sigmoid_6_visit_93404 = hypermodel_6_visit.predict(x_test_93404) #Table de probabilité\n",
    "df_test_93404['y_pred_best_model_6_visit'] = np.argmax(y_sigmoid_6_visit_93404, axis=-1) #Permet de recuperer la classe d'apartenance\n"
   ]
  },
  {
   "cell_type": "code",
   "execution_count": null,
   "id": "0bbec60e-8d46-404a-aebc-3a0f240b81ff",
   "metadata": {},
   "outputs": [],
   "source": [
    "#Evaluate the model on the visit 93404 in order to compare with train on 4 visit\n",
    "score_best_model_global_6_visit_90780 = hypermodel_6_visit.evaluate(x_test_90780, y_test_90780, verbose=0)\n",
    "\n",
    "y_sigmoid_6_visit_90780 = hypermodel_6_visit.predict(x_test_90780) #Table de probabilité\n",
    "df_test_90780['y_pred_best_model_6_visit_90780'] = np.argmax(y_sigmoid_6_visit_90780, axis=-1) #Permet de recuperer la classe d'apartenance"
   ]
  },
  {
   "cell_type": "code",
   "execution_count": null,
   "id": "c76e84d8-8086-4d0c-91e8-8b3fce03f0c8",
   "metadata": {
    "tags": []
   },
   "outputs": [],
   "source": [
    "#Evaluate the model on the visit 93404 in order to compare with train on 4 visit\n",
    "score_best_model_global_6_visit_101836 = hypermodel_6_visit.evaluate(x_test_101836, y_test_101836, verbose=0)\n",
    "\n",
    "y_sigmoid_6_visit_101836 = hypermodel_6_visit.predict(x_test_101836) #Table de probabilité\n",
    "df_test_101836['y_pred_best_model_6_visit_101836'] = np.argmax(y_sigmoid_6_visit_101836, axis=-1) #Permet de recuperer la classe d'apartenance"
   ]
  },
  {
   "cell_type": "markdown",
   "id": "52a2d9d1-4614-4892-a313-6b60042c15f1",
   "metadata": {
    "jp-MarkdownHeadingCollapsed": true,
    "tags": []
   },
   "source": [
    "# Entrainement du model avec toute les données melangé 12 visits"
   ]
  },
  {
   "cell_type": "code",
   "execution_count": null,
   "id": "3ddac527-e3e3-4f21-bf10-43cddd713906",
   "metadata": {},
   "outputs": [],
   "source": [
    "# Create the CNNHyperModel model\n",
    "model_12_visit = CNNHyperModel(input_shape=INPUT_SHAPE, num_classes=NUM_CLASSES, hyperband_max_epochs=HYPERBAND_MAX_EPOCHS,\n",
    "                      max_trials=MAX_TRIALS, executions_per_trial=EXECUTION_PER_TRIAL,\n",
    "                      x_train = x_train_12_visit, x_test=x_test_12_visit, y_train=y_train_12_visit, y_test=y_test_12_visit)\n"
   ]
  },
  {
   "cell_type": "code",
   "execution_count": null,
   "id": "42301347-7b58-4507-8a43-0cc0f1680ae5",
   "metadata": {
    "tags": []
   },
   "outputs": [],
   "source": [
    "#Train the CNNHyperModel model\n",
    "hypermodel_12_visit, history_12_visit = model_12_visit.Entrainement_bayes()"
   ]
  },
  {
   "cell_type": "code",
   "execution_count": null,
   "id": "96a35d5f-9d83-46c1-8daa-8603222c6d4f",
   "metadata": {
    "tags": []
   },
   "outputs": [],
   "source": [
    "#hypermodel_12_visit.save(f'{rundir}/Compare_visit/models/model_12_visit.h5')"
   ]
  },
  {
   "cell_type": "code",
   "execution_count": null,
   "id": "39283aab-3f21-4f7f-8da4-ddb3c5e8bfd7",
   "metadata": {},
   "outputs": [],
   "source": [
    "hypermodel_12_visit = tf.keras.models.load_model(f'{rundir}Compare_visit/models/model_12_visit.h5')"
   ]
  },
  {
   "cell_type": "code",
   "execution_count": null,
   "id": "7aec1598-12c4-4d16-8051-e848313e3d6f",
   "metadata": {},
   "outputs": [],
   "source": [
    "#Evaluate the model on testing set\n",
    "score_best_model_global_12_visit = hypermodel_12_visit.evaluate(x_test_93404, y_test_93404, verbose=0)\n",
    "\n",
    "y_sigmoid_12_visit = hypermodel_12_visit.predict(x_test_93404) #Table de probabilité\n",
    "df_test_93404['y_pred_best_model_global_12_visit'] = np.argmax(y_sigmoid_12_visit, axis=-1) #Permet de recuperer la classe d'apartenance\n"
   ]
  },
  {
   "cell_type": "code",
   "execution_count": null,
   "id": "eb19c78c-eec3-410c-83cb-725e66bbc1bf",
   "metadata": {},
   "outputs": [],
   "source": [
    "#Evaluate the model on the visit 90780 in order to compare with train on 4 visit\n",
    "score_best_model_global_12_visit_90780 = hypermodel_12_visit.evaluate(x_test_90780, y_test_90780, verbose=0)\n",
    "\n",
    "y_sigmoid_12_visit_90780 = hypermodel_12_visit.predict(x_test_90780) #Table de probabilité\n",
    "df_test_90780['y_pred_best_model_global_12_visit_90780'] = np.argmax(y_sigmoid_12_visit_90780, axis=-1) #Permet de recuperer la classe d'apartenance"
   ]
  },
  {
   "cell_type": "code",
   "execution_count": null,
   "id": "f39b912f-1dc9-4a1e-bee9-2ad4395eb1b7",
   "metadata": {},
   "outputs": [],
   "source": [
    "#Evaluate the model on the visit 101836 in order to compare with train on 4 visit\n",
    "score_best_model_global_12_visit_101836 = hypermodel_12_visit.evaluate(x_test_101836, y_test_101836, verbose=0)\n",
    "\n",
    "y_sigmoid_12_visit_101836 = hypermodel_12_visit.predict(x_test_101836) #Table de probabilité\n",
    "df_test_101836['y_pred_best_model_global_12_visit_101836'] = np.argmax(y_sigmoid_12_visit_101836, axis=-1) #Permet de recuperer la classe d'apartenance"
   ]
  },
  {
   "cell_type": "markdown",
   "id": "cba5434b-6d06-4011-9c15-3e82bcf49ee6",
   "metadata": {
    "jp-MarkdownHeadingCollapsed": true,
    "tags": []
   },
   "source": [
    "# Entrainement du model avec toute les données melangé 42 visits"
   ]
  },
  {
   "cell_type": "code",
   "execution_count": null,
   "id": "7a7021ca-7949-43f2-b079-98c04a1f8d8c",
   "metadata": {},
   "outputs": [],
   "source": [
    "# Create the CNNHyperModel model\n",
    "model_42_visit = CNNHyperModel(input_shape=INPUT_SHAPE, num_classes=NUM_CLASSES, hyperband_max_epochs=HYPERBAND_MAX_EPOCHS,\n",
    "                      max_trials=MAX_TRIALS, executions_per_trial=EXECUTION_PER_TRIAL,\n",
    "                        x_train = x_train_42_visit, x_test=x_test_42_visit, y_train=y_train_42_visit, y_test=y_test_42_visit)\n"
   ]
  },
  {
   "cell_type": "code",
   "execution_count": null,
   "id": "38d66c27-7e4c-4cff-8324-1277bcb80cce",
   "metadata": {
    "tags": []
   },
   "outputs": [],
   "source": [
    "#Train the CNNHyperModel model\n",
    "hypermodel_42_visit, history_42_visit = model_42_visit.Entrainement_bayes()"
   ]
  },
  {
   "cell_type": "code",
   "execution_count": null,
   "id": "f5114c79-bf1c-4f0b-bec1-f51bbc70f896",
   "metadata": {},
   "outputs": [],
   "source": [
    "rundir = '/sps/lsst/users/rbonnetguerrini/bogus_detection_v10/'\n"
   ]
  },
  {
   "cell_type": "code",
   "execution_count": null,
   "id": "ed95a1b5-26a7-4643-a8a8-93997a03236a",
   "metadata": {
    "tags": []
   },
   "outputs": [],
   "source": [
    "hypermodel_42_visit.save(f'{rundir}/Compare_visit/models/model_42_visit.h5')"
   ]
  },
  {
   "cell_type": "code",
   "execution_count": null,
   "id": "79aedc5b-5a64-46d3-9310-5a58b1178c0e",
   "metadata": {},
   "outputs": [],
   "source": [
    "hypermodel_42_visit = tf.keras.models.load_model(f'{rundir}Compare_visit/models/model_42_visit.h5')"
   ]
  },
  {
   "cell_type": "code",
   "execution_count": null,
   "id": "d1e6ede0-c147-48ea-9152-9c074c4e067b",
   "metadata": {},
   "outputs": [],
   "source": [
    "#Evaluate the model on testing set\n",
    "score_best_model_global_42_visit = hypermodel_42_visit.evaluate(x_test_93404, y_test_93404, verbose=0)\n",
    "\n",
    "y_sigmoid_42_visit = hypermodel_42_visit.predict(x_test_93404) #Table de probabilité\n",
    "df_test_93404['y_pred_best_model_global_42_visit'] = np.argmax(y_sigmoid_42_visit, axis=-1) #Permet de recuperer la classe d'apartenance\n"
   ]
  },
  {
   "cell_type": "code",
   "execution_count": null,
   "id": "c55eef04-415d-4da5-a94d-8aaf8100e5e6",
   "metadata": {},
   "outputs": [],
   "source": [
    "#Evaluate the model on the visit 90780 in order to compare with train on 4 visit\n",
    "score_best_model_global_42_visit_90780 = hypermodel_42_visit.evaluate(x_test_90780, y_test_90780, verbose=0)\n",
    "\n",
    "y_sigmoid_42_visit_90780 = hypermodel_42_visit.predict(x_test_90780) #Table de probabilité\n",
    "df_test_90780['y_pred_best_model_global_42_visit_90780'] = np.argmax(y_sigmoid_42_visit_90780, axis=-1) #Permet de recuperer la classe d'apartenance"
   ]
  },
  {
   "cell_type": "code",
   "execution_count": null,
   "id": "a05df130-3820-420c-8871-c4c9f5ddc0fb",
   "metadata": {},
   "outputs": [],
   "source": [
    "#Evaluate the model on the visit 101836 in order to compare with train on 4 visit\n",
    "score_best_model_global_42_visit_101836 = hypermodel_42_visit.evaluate(x_test_101836, y_test_101836, verbose=0)\n",
    "\n",
    "y_sigmoid_42_visit_101836 = hypermodel_42_visit.predict(x_test_101836) #Table de probabilité\n",
    "df_test_101836['y_pred_best_model_global_42_visit_101836'] = np.argmax(y_sigmoid_42_visit_101836, axis=-1) #Permet de recuperer la classe d'apartenance"
   ]
  },
  {
   "cell_type": "markdown",
   "id": "05ad4c46-7efa-42f0-8e76-8ffecb50ad30",
   "metadata": {
    "jp-MarkdownHeadingCollapsed": true,
    "tags": []
   },
   "source": [
    "# Entrainement du model visit 90780"
   ]
  },
  {
   "cell_type": "code",
   "execution_count": 21,
   "id": "8a403502-c88b-41e2-a0e1-fc79e8d4e86c",
   "metadata": {},
   "outputs": [],
   "source": [
    "# Create the CNNHyperModel model\n",
    "model = CNNHyperModel(input_shape=INPUT_SHAPE, num_classes=NUM_CLASSES, max_epochs=MAX_EPOCHS,\n",
    "                      max_trials=MAX_TRIALS, executions_per_trial=EXECUTION_PER_TRIAL,\n",
    "                      x_train = x_train_90780, x_test=x_test_90780, y_train=y_train_90780, y_test=y_test_90780)"
   ]
  },
  {
   "cell_type": "code",
   "execution_count": 22,
   "id": "f416d1ed-5838-4d6e-8bae-3d71216bef97",
   "metadata": {
    "tags": []
   },
   "outputs": [
    {
     "name": "stdout",
     "output_type": "stream",
     "text": [
      "(None, 14, 14, 8)\n",
      "\n",
      "Search: Running Trial #1\n",
      "\n",
      "Value             |Best Value So Far |Hyperparameter\n",
      "21                |21                |filters_1\n",
      "0.15              |0.15              |dropout_1\n",
      "14                |14                |filters_2\n",
      "0.45              |0.45              |dropout_2\n",
      "1616              |1616              |units\n",
      "0.25              |0.25              |dropout_3\n",
      "0.001             |0.001             |learning_rate\n",
      "\n",
      "(None, 14, 14, 21)\n",
      "Epoch 1/20\n",
      "334/334 [==============================] - 10s 28ms/step - loss: 0.3393 - accuracy: 0.8413 - val_loss: 0.2434 - val_accuracy: 0.8948\n",
      "Epoch 2/20\n",
      "334/334 [==============================] - 9s 27ms/step - loss: 0.2428 - accuracy: 0.8927 - val_loss: 0.2052 - val_accuracy: 0.9122\n",
      "Epoch 3/20\n",
      "334/334 [==============================] - 9s 26ms/step - loss: 0.2163 - accuracy: 0.9062 - val_loss: 0.1889 - val_accuracy: 0.9189\n",
      "Epoch 4/20\n",
      "334/334 [==============================] - 8s 25ms/step - loss: 0.2019 - accuracy: 0.9154 - val_loss: 0.1775 - val_accuracy: 0.9270\n",
      "Epoch 5/20\n",
      "334/334 [==============================] - 9s 26ms/step - loss: 0.1960 - accuracy: 0.9177 - val_loss: 0.1773 - val_accuracy: 0.9279\n",
      "Epoch 6/20\n",
      "334/334 [==============================] - 8s 25ms/step - loss: 0.1839 - accuracy: 0.9235 - val_loss: 0.1796 - val_accuracy: 0.9271\n",
      "Epoch 7/20\n",
      "324/334 [============================>.] - ETA: 0s - loss: 0.1812 - accuracy: 0.9264"
     ]
    },
    {
     "ename": "KeyboardInterrupt",
     "evalue": "",
     "output_type": "error",
     "traceback": [
      "\u001b[0;31m---------------------------------------------------------------------------\u001b[0m",
      "\u001b[0;31mKeyboardInterrupt\u001b[0m                         Traceback (most recent call last)",
      "Cell \u001b[0;32mIn[22], line 2\u001b[0m\n\u001b[1;32m      1\u001b[0m \u001b[38;5;66;03m#Train the CNNHyperModel model\u001b[39;00m\n\u001b[0;32m----> 2\u001b[0m hypermodel, history \u001b[38;5;241m=\u001b[39m \u001b[43mmodel\u001b[49m\u001b[38;5;241;43m.\u001b[39;49m\u001b[43mEntrainement_bayes\u001b[49m\u001b[43m(\u001b[49m\u001b[43m)\u001b[49m\n",
      "File \u001b[0;32m/sps/lsst/users/rbonnetguerrini/ML4_transientV2/CNN_model.py:185\u001b[0m, in \u001b[0;36mCNNHyperModel.Entrainement_bayes\u001b[0;34m(self)\u001b[0m\n\u001b[1;32m    177\u001b[0m     tuner_B \u001b[38;5;241m=\u001b[39m BayesianOptimization(\n\u001b[1;32m    178\u001b[0m                     \u001b[38;5;28mself\u001b[39m\u001b[38;5;241m.\u001b[39mbuild,\n\u001b[1;32m    179\u001b[0m                     objective \u001b[38;5;241m=\u001b[39m \u001b[38;5;124m'\u001b[39m\u001b[38;5;124mval_accuracy\u001b[39m\u001b[38;5;124m'\u001b[39m,\n\u001b[1;32m    180\u001b[0m                     executions_per_trial \u001b[38;5;241m=\u001b[39m \u001b[38;5;28mself\u001b[39m\u001b[38;5;241m.\u001b[39mexecutions_per_trial,\n\u001b[1;32m    181\u001b[0m                     overwrite \u001b[38;5;241m=\u001b[39m \u001b[38;5;28;01mTrue\u001b[39;00m,\n\u001b[1;32m    182\u001b[0m                     max_trials \u001b[38;5;241m=\u001b[39m \u001b[38;5;28mself\u001b[39m\u001b[38;5;241m.\u001b[39mmax_trials)\n\u001b[1;32m    184\u001b[0m \u001b[38;5;66;03m#Train le model\u001b[39;00m\n\u001b[0;32m--> 185\u001b[0m \u001b[43mtuner_B\u001b[49m\u001b[38;5;241;43m.\u001b[39;49m\u001b[43msearch\u001b[49m\u001b[43m(\u001b[49m\u001b[38;5;28;43mself\u001b[39;49m\u001b[38;5;241;43m.\u001b[39;49m\u001b[43mx_train\u001b[49m\u001b[43m,\u001b[49m\u001b[43m \u001b[49m\u001b[38;5;28;43mself\u001b[39;49m\u001b[38;5;241;43m.\u001b[39;49m\u001b[43my_train\u001b[49m\u001b[43m,\u001b[49m\u001b[43m \u001b[49m\n\u001b[1;32m    186\u001b[0m \u001b[43m               \u001b[49m\u001b[43mepochs\u001b[49m\u001b[43m \u001b[49m\u001b[38;5;241;43m=\u001b[39;49m\u001b[43m \u001b[49m\u001b[38;5;28;43mself\u001b[39;49m\u001b[38;5;241;43m.\u001b[39;49m\u001b[43mmax_epochs\u001b[49m\u001b[43m,\u001b[49m\n\u001b[1;32m    187\u001b[0m \u001b[43m               \u001b[49m\u001b[43mvalidation_data\u001b[49m\u001b[43m \u001b[49m\u001b[38;5;241;43m=\u001b[39;49m\u001b[43m \u001b[49m\u001b[43m(\u001b[49m\u001b[38;5;28;43mself\u001b[39;49m\u001b[38;5;241;43m.\u001b[39;49m\u001b[43mx_test\u001b[49m\u001b[43m,\u001b[49m\u001b[43m \u001b[49m\u001b[38;5;28;43mself\u001b[39;49m\u001b[38;5;241;43m.\u001b[39;49m\u001b[43my_test\u001b[49m\u001b[43m)\u001b[49m\u001b[43m,\u001b[49m\u001b[43m \u001b[49m\n\u001b[1;32m    188\u001b[0m \u001b[43m               \u001b[49m\u001b[43mcallbacks\u001b[49m\u001b[43m \u001b[49m\u001b[38;5;241;43m=\u001b[39;49m\u001b[43m \u001b[49m\u001b[43m[\u001b[49m\u001b[43mearly_stop\u001b[49m\u001b[43m,\u001b[49m\u001b[43m \u001b[49m\u001b[43mbatch_plotter\u001b[49m\u001b[43m]\u001b[49m\u001b[43m,\u001b[49m\n\u001b[1;32m    189\u001b[0m \u001b[43m               \u001b[49m\u001b[43mbatch_size\u001b[49m\u001b[43m \u001b[49m\u001b[38;5;241;43m=\u001b[39;49m\u001b[43m \u001b[49m\u001b[38;5;28;43mself\u001b[39;49m\u001b[38;5;241;43m.\u001b[39;49m\u001b[43mbatch_size\u001b[49m\u001b[43m,\u001b[49m\n\u001b[1;32m    190\u001b[0m \u001b[43m               \u001b[49m\u001b[43mverbose\u001b[49m\u001b[43m \u001b[49m\u001b[38;5;241;43m=\u001b[39;49m\u001b[43m \u001b[49m\u001b[38;5;241;43m1\u001b[39;49m\n\u001b[1;32m    191\u001b[0m \u001b[43m             \u001b[49m\u001b[43m)\u001b[49m\n\u001b[1;32m    193\u001b[0m \u001b[38;5;66;03m# Retrieve the best model.\u001b[39;00m\n\u001b[1;32m    194\u001b[0m best_model \u001b[38;5;241m=\u001b[39m tuner_B\u001b[38;5;241m.\u001b[39mget_best_models(num_models\u001b[38;5;241m=\u001b[39m\u001b[38;5;241m1\u001b[39m)[\u001b[38;5;241m0\u001b[39m]\n",
      "File \u001b[0;32m~/ML4transients_env/lib/python3.8/site-packages/keras_tuner/src/engine/base_tuner.py:234\u001b[0m, in \u001b[0;36mBaseTuner.search\u001b[0;34m(self, *fit_args, **fit_kwargs)\u001b[0m\n\u001b[1;32m    231\u001b[0m         \u001b[38;5;28;01mcontinue\u001b[39;00m\n\u001b[1;32m    233\u001b[0m     \u001b[38;5;28mself\u001b[39m\u001b[38;5;241m.\u001b[39mon_trial_begin(trial)\n\u001b[0;32m--> 234\u001b[0m     \u001b[38;5;28;43mself\u001b[39;49m\u001b[38;5;241;43m.\u001b[39;49m\u001b[43m_try_run_and_update_trial\u001b[49m\u001b[43m(\u001b[49m\u001b[43mtrial\u001b[49m\u001b[43m,\u001b[49m\u001b[43m \u001b[49m\u001b[38;5;241;43m*\u001b[39;49m\u001b[43mfit_args\u001b[49m\u001b[43m,\u001b[49m\u001b[43m \u001b[49m\u001b[38;5;241;43m*\u001b[39;49m\u001b[38;5;241;43m*\u001b[39;49m\u001b[43mfit_kwargs\u001b[49m\u001b[43m)\u001b[49m\n\u001b[1;32m    235\u001b[0m     \u001b[38;5;28mself\u001b[39m\u001b[38;5;241m.\u001b[39mon_trial_end(trial)\n\u001b[1;32m    236\u001b[0m \u001b[38;5;28mself\u001b[39m\u001b[38;5;241m.\u001b[39mon_search_end()\n",
      "File \u001b[0;32m~/ML4transients_env/lib/python3.8/site-packages/keras_tuner/src/engine/base_tuner.py:274\u001b[0m, in \u001b[0;36mBaseTuner._try_run_and_update_trial\u001b[0;34m(self, trial, *fit_args, **fit_kwargs)\u001b[0m\n\u001b[1;32m    272\u001b[0m \u001b[38;5;28;01mdef\u001b[39;00m \u001b[38;5;21m_try_run_and_update_trial\u001b[39m(\u001b[38;5;28mself\u001b[39m, trial, \u001b[38;5;241m*\u001b[39mfit_args, \u001b[38;5;241m*\u001b[39m\u001b[38;5;241m*\u001b[39mfit_kwargs):\n\u001b[1;32m    273\u001b[0m     \u001b[38;5;28;01mtry\u001b[39;00m:\n\u001b[0;32m--> 274\u001b[0m         \u001b[38;5;28;43mself\u001b[39;49m\u001b[38;5;241;43m.\u001b[39;49m\u001b[43m_run_and_update_trial\u001b[49m\u001b[43m(\u001b[49m\u001b[43mtrial\u001b[49m\u001b[43m,\u001b[49m\u001b[43m \u001b[49m\u001b[38;5;241;43m*\u001b[39;49m\u001b[43mfit_args\u001b[49m\u001b[43m,\u001b[49m\u001b[43m \u001b[49m\u001b[38;5;241;43m*\u001b[39;49m\u001b[38;5;241;43m*\u001b[39;49m\u001b[43mfit_kwargs\u001b[49m\u001b[43m)\u001b[49m\n\u001b[1;32m    275\u001b[0m         trial\u001b[38;5;241m.\u001b[39mstatus \u001b[38;5;241m=\u001b[39m trial_module\u001b[38;5;241m.\u001b[39mTrialStatus\u001b[38;5;241m.\u001b[39mCOMPLETED\n\u001b[1;32m    276\u001b[0m         \u001b[38;5;28;01mreturn\u001b[39;00m\n",
      "File \u001b[0;32m~/ML4transients_env/lib/python3.8/site-packages/keras_tuner/src/engine/base_tuner.py:239\u001b[0m, in \u001b[0;36mBaseTuner._run_and_update_trial\u001b[0;34m(self, trial, *fit_args, **fit_kwargs)\u001b[0m\n\u001b[1;32m    238\u001b[0m \u001b[38;5;28;01mdef\u001b[39;00m \u001b[38;5;21m_run_and_update_trial\u001b[39m(\u001b[38;5;28mself\u001b[39m, trial, \u001b[38;5;241m*\u001b[39mfit_args, \u001b[38;5;241m*\u001b[39m\u001b[38;5;241m*\u001b[39mfit_kwargs):\n\u001b[0;32m--> 239\u001b[0m     results \u001b[38;5;241m=\u001b[39m \u001b[38;5;28;43mself\u001b[39;49m\u001b[38;5;241;43m.\u001b[39;49m\u001b[43mrun_trial\u001b[49m\u001b[43m(\u001b[49m\u001b[43mtrial\u001b[49m\u001b[43m,\u001b[49m\u001b[43m \u001b[49m\u001b[38;5;241;43m*\u001b[39;49m\u001b[43mfit_args\u001b[49m\u001b[43m,\u001b[49m\u001b[43m \u001b[49m\u001b[38;5;241;43m*\u001b[39;49m\u001b[38;5;241;43m*\u001b[39;49m\u001b[43mfit_kwargs\u001b[49m\u001b[43m)\u001b[49m\n\u001b[1;32m    240\u001b[0m     \u001b[38;5;28;01mif\u001b[39;00m \u001b[38;5;28mself\u001b[39m\u001b[38;5;241m.\u001b[39moracle\u001b[38;5;241m.\u001b[39mget_trial(trial\u001b[38;5;241m.\u001b[39mtrial_id)\u001b[38;5;241m.\u001b[39mmetrics\u001b[38;5;241m.\u001b[39mexists(\n\u001b[1;32m    241\u001b[0m         \u001b[38;5;28mself\u001b[39m\u001b[38;5;241m.\u001b[39moracle\u001b[38;5;241m.\u001b[39mobjective\u001b[38;5;241m.\u001b[39mname\n\u001b[1;32m    242\u001b[0m     ):\n\u001b[1;32m    243\u001b[0m         \u001b[38;5;66;03m# The oracle is updated by calling `self.oracle.update_trial()` in\u001b[39;00m\n\u001b[1;32m    244\u001b[0m         \u001b[38;5;66;03m# `Tuner.run_trial()`. For backward compatibility, we support this\u001b[39;00m\n\u001b[1;32m    245\u001b[0m         \u001b[38;5;66;03m# use case. No further action needed in this case.\u001b[39;00m\n\u001b[1;32m    246\u001b[0m         warnings\u001b[38;5;241m.\u001b[39mwarn(\n\u001b[1;32m    247\u001b[0m             \u001b[38;5;124m\"\u001b[39m\u001b[38;5;124mThe use case of calling \u001b[39m\u001b[38;5;124m\"\u001b[39m\n\u001b[1;32m    248\u001b[0m             \u001b[38;5;124m\"\u001b[39m\u001b[38;5;124m`self.oracle.update_trial(trial_id, metrics)` \u001b[39m\u001b[38;5;124m\"\u001b[39m\n\u001b[0;32m   (...)\u001b[0m\n\u001b[1;32m    254\u001b[0m             stacklevel\u001b[38;5;241m=\u001b[39m\u001b[38;5;241m2\u001b[39m,\n\u001b[1;32m    255\u001b[0m         )\n",
      "File \u001b[0;32m~/ML4transients_env/lib/python3.8/site-packages/keras_tuner/src/engine/tuner.py:314\u001b[0m, in \u001b[0;36mTuner.run_trial\u001b[0;34m(self, trial, *args, **kwargs)\u001b[0m\n\u001b[1;32m    312\u001b[0m     callbacks\u001b[38;5;241m.\u001b[39mappend(model_checkpoint)\n\u001b[1;32m    313\u001b[0m     copied_kwargs[\u001b[38;5;124m\"\u001b[39m\u001b[38;5;124mcallbacks\u001b[39m\u001b[38;5;124m\"\u001b[39m] \u001b[38;5;241m=\u001b[39m callbacks\n\u001b[0;32m--> 314\u001b[0m     obj_value \u001b[38;5;241m=\u001b[39m \u001b[38;5;28;43mself\u001b[39;49m\u001b[38;5;241;43m.\u001b[39;49m\u001b[43m_build_and_fit_model\u001b[49m\u001b[43m(\u001b[49m\u001b[43mtrial\u001b[49m\u001b[43m,\u001b[49m\u001b[43m \u001b[49m\u001b[38;5;241;43m*\u001b[39;49m\u001b[43margs\u001b[49m\u001b[43m,\u001b[49m\u001b[43m \u001b[49m\u001b[38;5;241;43m*\u001b[39;49m\u001b[38;5;241;43m*\u001b[39;49m\u001b[43mcopied_kwargs\u001b[49m\u001b[43m)\u001b[49m\n\u001b[1;32m    316\u001b[0m     histories\u001b[38;5;241m.\u001b[39mappend(obj_value)\n\u001b[1;32m    317\u001b[0m \u001b[38;5;28;01mreturn\u001b[39;00m histories\n",
      "File \u001b[0;32m~/ML4transients_env/lib/python3.8/site-packages/keras_tuner/src/engine/tuner.py:233\u001b[0m, in \u001b[0;36mTuner._build_and_fit_model\u001b[0;34m(self, trial, *args, **kwargs)\u001b[0m\n\u001b[1;32m    231\u001b[0m hp \u001b[38;5;241m=\u001b[39m trial\u001b[38;5;241m.\u001b[39mhyperparameters\n\u001b[1;32m    232\u001b[0m model \u001b[38;5;241m=\u001b[39m \u001b[38;5;28mself\u001b[39m\u001b[38;5;241m.\u001b[39m_try_build(hp)\n\u001b[0;32m--> 233\u001b[0m results \u001b[38;5;241m=\u001b[39m \u001b[38;5;28;43mself\u001b[39;49m\u001b[38;5;241;43m.\u001b[39;49m\u001b[43mhypermodel\u001b[49m\u001b[38;5;241;43m.\u001b[39;49m\u001b[43mfit\u001b[49m\u001b[43m(\u001b[49m\u001b[43mhp\u001b[49m\u001b[43m,\u001b[49m\u001b[43m \u001b[49m\u001b[43mmodel\u001b[49m\u001b[43m,\u001b[49m\u001b[43m \u001b[49m\u001b[38;5;241;43m*\u001b[39;49m\u001b[43margs\u001b[49m\u001b[43m,\u001b[49m\u001b[43m \u001b[49m\u001b[38;5;241;43m*\u001b[39;49m\u001b[38;5;241;43m*\u001b[39;49m\u001b[43mkwargs\u001b[49m\u001b[43m)\u001b[49m\n\u001b[1;32m    235\u001b[0m \u001b[38;5;66;03m# Save the build config for model loading later.\u001b[39;00m\n\u001b[1;32m    236\u001b[0m \u001b[38;5;28;01mif\u001b[39;00m backend\u001b[38;5;241m.\u001b[39mconfig\u001b[38;5;241m.\u001b[39mmulti_backend():\n",
      "File \u001b[0;32m~/ML4transients_env/lib/python3.8/site-packages/keras_tuner/src/engine/hypermodel.py:149\u001b[0m, in \u001b[0;36mHyperModel.fit\u001b[0;34m(self, hp, model, *args, **kwargs)\u001b[0m\n\u001b[1;32m    125\u001b[0m \u001b[38;5;28;01mdef\u001b[39;00m \u001b[38;5;21mfit\u001b[39m(\u001b[38;5;28mself\u001b[39m, hp, model, \u001b[38;5;241m*\u001b[39margs, \u001b[38;5;241m*\u001b[39m\u001b[38;5;241m*\u001b[39mkwargs):\n\u001b[1;32m    126\u001b[0m \u001b[38;5;250m    \u001b[39m\u001b[38;5;124;03m\"\"\"Train the model.\u001b[39;00m\n\u001b[1;32m    127\u001b[0m \n\u001b[1;32m    128\u001b[0m \u001b[38;5;124;03m    Args:\u001b[39;00m\n\u001b[0;32m   (...)\u001b[0m\n\u001b[1;32m    147\u001b[0m \u001b[38;5;124;03m        If return a float, it should be the `objective` value.\u001b[39;00m\n\u001b[1;32m    148\u001b[0m \u001b[38;5;124;03m    \"\"\"\u001b[39;00m\n\u001b[0;32m--> 149\u001b[0m     \u001b[38;5;28;01mreturn\u001b[39;00m \u001b[43mmodel\u001b[49m\u001b[38;5;241;43m.\u001b[39;49m\u001b[43mfit\u001b[49m\u001b[43m(\u001b[49m\u001b[38;5;241;43m*\u001b[39;49m\u001b[43margs\u001b[49m\u001b[43m,\u001b[49m\u001b[43m \u001b[49m\u001b[38;5;241;43m*\u001b[39;49m\u001b[38;5;241;43m*\u001b[39;49m\u001b[43mkwargs\u001b[49m\u001b[43m)\u001b[49m\n",
      "File \u001b[0;32m~/.local/lib/python3.8/site-packages/keras/src/utils/traceback_utils.py:65\u001b[0m, in \u001b[0;36mfilter_traceback.<locals>.error_handler\u001b[0;34m(*args, **kwargs)\u001b[0m\n\u001b[1;32m     63\u001b[0m filtered_tb \u001b[38;5;241m=\u001b[39m \u001b[38;5;28;01mNone\u001b[39;00m\n\u001b[1;32m     64\u001b[0m \u001b[38;5;28;01mtry\u001b[39;00m:\n\u001b[0;32m---> 65\u001b[0m     \u001b[38;5;28;01mreturn\u001b[39;00m \u001b[43mfn\u001b[49m\u001b[43m(\u001b[49m\u001b[38;5;241;43m*\u001b[39;49m\u001b[43margs\u001b[49m\u001b[43m,\u001b[49m\u001b[43m \u001b[49m\u001b[38;5;241;43m*\u001b[39;49m\u001b[38;5;241;43m*\u001b[39;49m\u001b[43mkwargs\u001b[49m\u001b[43m)\u001b[49m\n\u001b[1;32m     66\u001b[0m \u001b[38;5;28;01mexcept\u001b[39;00m \u001b[38;5;167;01mException\u001b[39;00m \u001b[38;5;28;01mas\u001b[39;00m e:\n\u001b[1;32m     67\u001b[0m     filtered_tb \u001b[38;5;241m=\u001b[39m _process_traceback_frames(e\u001b[38;5;241m.\u001b[39m__traceback__)\n",
      "File \u001b[0;32m~/.local/lib/python3.8/site-packages/keras/src/engine/training.py:1742\u001b[0m, in \u001b[0;36mModel.fit\u001b[0;34m(self, x, y, batch_size, epochs, verbose, callbacks, validation_split, validation_data, shuffle, class_weight, sample_weight, initial_epoch, steps_per_epoch, validation_steps, validation_batch_size, validation_freq, max_queue_size, workers, use_multiprocessing)\u001b[0m\n\u001b[1;32m   1734\u001b[0m \u001b[38;5;28;01mwith\u001b[39;00m tf\u001b[38;5;241m.\u001b[39mprofiler\u001b[38;5;241m.\u001b[39mexperimental\u001b[38;5;241m.\u001b[39mTrace(\n\u001b[1;32m   1735\u001b[0m     \u001b[38;5;124m\"\u001b[39m\u001b[38;5;124mtrain\u001b[39m\u001b[38;5;124m\"\u001b[39m,\n\u001b[1;32m   1736\u001b[0m     epoch_num\u001b[38;5;241m=\u001b[39mepoch,\n\u001b[0;32m   (...)\u001b[0m\n\u001b[1;32m   1739\u001b[0m     _r\u001b[38;5;241m=\u001b[39m\u001b[38;5;241m1\u001b[39m,\n\u001b[1;32m   1740\u001b[0m ):\n\u001b[1;32m   1741\u001b[0m     callbacks\u001b[38;5;241m.\u001b[39mon_train_batch_begin(step)\n\u001b[0;32m-> 1742\u001b[0m     tmp_logs \u001b[38;5;241m=\u001b[39m \u001b[38;5;28;43mself\u001b[39;49m\u001b[38;5;241;43m.\u001b[39;49m\u001b[43mtrain_function\u001b[49m\u001b[43m(\u001b[49m\u001b[43miterator\u001b[49m\u001b[43m)\u001b[49m\n\u001b[1;32m   1743\u001b[0m     \u001b[38;5;28;01mif\u001b[39;00m data_handler\u001b[38;5;241m.\u001b[39mshould_sync:\n\u001b[1;32m   1744\u001b[0m         context\u001b[38;5;241m.\u001b[39masync_wait()\n",
      "File \u001b[0;32m~/.local/lib/python3.8/site-packages/tensorflow/python/util/traceback_utils.py:150\u001b[0m, in \u001b[0;36mfilter_traceback.<locals>.error_handler\u001b[0;34m(*args, **kwargs)\u001b[0m\n\u001b[1;32m    148\u001b[0m filtered_tb \u001b[38;5;241m=\u001b[39m \u001b[38;5;28;01mNone\u001b[39;00m\n\u001b[1;32m    149\u001b[0m \u001b[38;5;28;01mtry\u001b[39;00m:\n\u001b[0;32m--> 150\u001b[0m   \u001b[38;5;28;01mreturn\u001b[39;00m \u001b[43mfn\u001b[49m\u001b[43m(\u001b[49m\u001b[38;5;241;43m*\u001b[39;49m\u001b[43margs\u001b[49m\u001b[43m,\u001b[49m\u001b[43m \u001b[49m\u001b[38;5;241;43m*\u001b[39;49m\u001b[38;5;241;43m*\u001b[39;49m\u001b[43mkwargs\u001b[49m\u001b[43m)\u001b[49m\n\u001b[1;32m    151\u001b[0m \u001b[38;5;28;01mexcept\u001b[39;00m \u001b[38;5;167;01mException\u001b[39;00m \u001b[38;5;28;01mas\u001b[39;00m e:\n\u001b[1;32m    152\u001b[0m   filtered_tb \u001b[38;5;241m=\u001b[39m _process_traceback_frames(e\u001b[38;5;241m.\u001b[39m__traceback__)\n",
      "File \u001b[0;32m~/.local/lib/python3.8/site-packages/tensorflow/python/eager/polymorphic_function/polymorphic_function.py:825\u001b[0m, in \u001b[0;36mFunction.__call__\u001b[0;34m(self, *args, **kwds)\u001b[0m\n\u001b[1;32m    822\u001b[0m compiler \u001b[38;5;241m=\u001b[39m \u001b[38;5;124m\"\u001b[39m\u001b[38;5;124mxla\u001b[39m\u001b[38;5;124m\"\u001b[39m \u001b[38;5;28;01mif\u001b[39;00m \u001b[38;5;28mself\u001b[39m\u001b[38;5;241m.\u001b[39m_jit_compile \u001b[38;5;28;01melse\u001b[39;00m \u001b[38;5;124m\"\u001b[39m\u001b[38;5;124mnonXla\u001b[39m\u001b[38;5;124m\"\u001b[39m\n\u001b[1;32m    824\u001b[0m \u001b[38;5;28;01mwith\u001b[39;00m OptionalXlaContext(\u001b[38;5;28mself\u001b[39m\u001b[38;5;241m.\u001b[39m_jit_compile):\n\u001b[0;32m--> 825\u001b[0m   result \u001b[38;5;241m=\u001b[39m \u001b[38;5;28;43mself\u001b[39;49m\u001b[38;5;241;43m.\u001b[39;49m\u001b[43m_call\u001b[49m\u001b[43m(\u001b[49m\u001b[38;5;241;43m*\u001b[39;49m\u001b[43margs\u001b[49m\u001b[43m,\u001b[49m\u001b[43m \u001b[49m\u001b[38;5;241;43m*\u001b[39;49m\u001b[38;5;241;43m*\u001b[39;49m\u001b[43mkwds\u001b[49m\u001b[43m)\u001b[49m\n\u001b[1;32m    827\u001b[0m new_tracing_count \u001b[38;5;241m=\u001b[39m \u001b[38;5;28mself\u001b[39m\u001b[38;5;241m.\u001b[39mexperimental_get_tracing_count()\n\u001b[1;32m    828\u001b[0m without_tracing \u001b[38;5;241m=\u001b[39m (tracing_count \u001b[38;5;241m==\u001b[39m new_tracing_count)\n",
      "File \u001b[0;32m~/.local/lib/python3.8/site-packages/tensorflow/python/eager/polymorphic_function/polymorphic_function.py:857\u001b[0m, in \u001b[0;36mFunction._call\u001b[0;34m(self, *args, **kwds)\u001b[0m\n\u001b[1;32m    854\u001b[0m   \u001b[38;5;28mself\u001b[39m\u001b[38;5;241m.\u001b[39m_lock\u001b[38;5;241m.\u001b[39mrelease()\n\u001b[1;32m    855\u001b[0m   \u001b[38;5;66;03m# In this case we have created variables on the first call, so we run the\u001b[39;00m\n\u001b[1;32m    856\u001b[0m   \u001b[38;5;66;03m# defunned version which is guaranteed to never create variables.\u001b[39;00m\n\u001b[0;32m--> 857\u001b[0m   \u001b[38;5;28;01mreturn\u001b[39;00m \u001b[38;5;28;43mself\u001b[39;49m\u001b[38;5;241;43m.\u001b[39;49m\u001b[43m_no_variable_creation_fn\u001b[49m\u001b[43m(\u001b[49m\u001b[38;5;241;43m*\u001b[39;49m\u001b[43margs\u001b[49m\u001b[43m,\u001b[49m\u001b[43m \u001b[49m\u001b[38;5;241;43m*\u001b[39;49m\u001b[38;5;241;43m*\u001b[39;49m\u001b[43mkwds\u001b[49m\u001b[43m)\u001b[49m  \u001b[38;5;66;03m# pylint: disable=not-callable\u001b[39;00m\n\u001b[1;32m    858\u001b[0m \u001b[38;5;28;01melif\u001b[39;00m \u001b[38;5;28mself\u001b[39m\u001b[38;5;241m.\u001b[39m_variable_creation_fn \u001b[38;5;129;01mis\u001b[39;00m \u001b[38;5;129;01mnot\u001b[39;00m \u001b[38;5;28;01mNone\u001b[39;00m:\n\u001b[1;32m    859\u001b[0m   \u001b[38;5;66;03m# Release the lock early so that multiple threads can perform the call\u001b[39;00m\n\u001b[1;32m    860\u001b[0m   \u001b[38;5;66;03m# in parallel.\u001b[39;00m\n\u001b[1;32m    861\u001b[0m   \u001b[38;5;28mself\u001b[39m\u001b[38;5;241m.\u001b[39m_lock\u001b[38;5;241m.\u001b[39mrelease()\n",
      "File \u001b[0;32m~/.local/lib/python3.8/site-packages/tensorflow/python/eager/polymorphic_function/tracing_compiler.py:148\u001b[0m, in \u001b[0;36mTracingCompiler.__call__\u001b[0;34m(self, *args, **kwargs)\u001b[0m\n\u001b[1;32m    145\u001b[0m \u001b[38;5;28;01mwith\u001b[39;00m \u001b[38;5;28mself\u001b[39m\u001b[38;5;241m.\u001b[39m_lock:\n\u001b[1;32m    146\u001b[0m   (concrete_function,\n\u001b[1;32m    147\u001b[0m    filtered_flat_args) \u001b[38;5;241m=\u001b[39m \u001b[38;5;28mself\u001b[39m\u001b[38;5;241m.\u001b[39m_maybe_define_function(args, kwargs)\n\u001b[0;32m--> 148\u001b[0m \u001b[38;5;28;01mreturn\u001b[39;00m \u001b[43mconcrete_function\u001b[49m\u001b[38;5;241;43m.\u001b[39;49m\u001b[43m_call_flat\u001b[49m\u001b[43m(\u001b[49m\n\u001b[1;32m    149\u001b[0m \u001b[43m    \u001b[49m\u001b[43mfiltered_flat_args\u001b[49m\u001b[43m,\u001b[49m\u001b[43m \u001b[49m\u001b[43mcaptured_inputs\u001b[49m\u001b[38;5;241;43m=\u001b[39;49m\u001b[43mconcrete_function\u001b[49m\u001b[38;5;241;43m.\u001b[39;49m\u001b[43mcaptured_inputs\u001b[49m\u001b[43m)\u001b[49m\n",
      "File \u001b[0;32m~/.local/lib/python3.8/site-packages/tensorflow/python/eager/polymorphic_function/monomorphic_function.py:1349\u001b[0m, in \u001b[0;36mConcreteFunction._call_flat\u001b[0;34m(self, args, captured_inputs)\u001b[0m\n\u001b[1;32m   1345\u001b[0m possible_gradient_type \u001b[38;5;241m=\u001b[39m gradients_util\u001b[38;5;241m.\u001b[39mPossibleTapeGradientTypes(args)\n\u001b[1;32m   1346\u001b[0m \u001b[38;5;28;01mif\u001b[39;00m (possible_gradient_type \u001b[38;5;241m==\u001b[39m gradients_util\u001b[38;5;241m.\u001b[39mPOSSIBLE_GRADIENT_TYPES_NONE\n\u001b[1;32m   1347\u001b[0m     \u001b[38;5;129;01mand\u001b[39;00m executing_eagerly):\n\u001b[1;32m   1348\u001b[0m   \u001b[38;5;66;03m# No tape is watching; skip to running the function.\u001b[39;00m\n\u001b[0;32m-> 1349\u001b[0m   \u001b[38;5;28;01mreturn\u001b[39;00m \u001b[38;5;28mself\u001b[39m\u001b[38;5;241m.\u001b[39m_build_call_outputs(\u001b[38;5;28;43mself\u001b[39;49m\u001b[38;5;241;43m.\u001b[39;49m\u001b[43m_inference_function\u001b[49m\u001b[43m(\u001b[49m\u001b[38;5;241;43m*\u001b[39;49m\u001b[43margs\u001b[49m\u001b[43m)\u001b[49m)\n\u001b[1;32m   1350\u001b[0m forward_backward \u001b[38;5;241m=\u001b[39m \u001b[38;5;28mself\u001b[39m\u001b[38;5;241m.\u001b[39m_select_forward_and_backward_functions(\n\u001b[1;32m   1351\u001b[0m     args,\n\u001b[1;32m   1352\u001b[0m     possible_gradient_type,\n\u001b[1;32m   1353\u001b[0m     executing_eagerly)\n\u001b[1;32m   1354\u001b[0m forward_function, args_with_tangents \u001b[38;5;241m=\u001b[39m forward_backward\u001b[38;5;241m.\u001b[39mforward()\n",
      "File \u001b[0;32m~/.local/lib/python3.8/site-packages/tensorflow/python/eager/polymorphic_function/atomic_function.py:196\u001b[0m, in \u001b[0;36mAtomicFunction.__call__\u001b[0;34m(self, *args)\u001b[0m\n\u001b[1;32m    194\u001b[0m \u001b[38;5;28;01mwith\u001b[39;00m record\u001b[38;5;241m.\u001b[39mstop_recording():\n\u001b[1;32m    195\u001b[0m   \u001b[38;5;28;01mif\u001b[39;00m \u001b[38;5;28mself\u001b[39m\u001b[38;5;241m.\u001b[39m_bound_context\u001b[38;5;241m.\u001b[39mexecuting_eagerly():\n\u001b[0;32m--> 196\u001b[0m     outputs \u001b[38;5;241m=\u001b[39m \u001b[38;5;28;43mself\u001b[39;49m\u001b[38;5;241;43m.\u001b[39;49m\u001b[43m_bound_context\u001b[49m\u001b[38;5;241;43m.\u001b[39;49m\u001b[43mcall_function\u001b[49m\u001b[43m(\u001b[49m\n\u001b[1;32m    197\u001b[0m \u001b[43m        \u001b[49m\u001b[38;5;28;43mself\u001b[39;49m\u001b[38;5;241;43m.\u001b[39;49m\u001b[43mname\u001b[49m\u001b[43m,\u001b[49m\n\u001b[1;32m    198\u001b[0m \u001b[43m        \u001b[49m\u001b[38;5;28;43mlist\u001b[39;49m\u001b[43m(\u001b[49m\u001b[43margs\u001b[49m\u001b[43m)\u001b[49m\u001b[43m,\u001b[49m\n\u001b[1;32m    199\u001b[0m \u001b[43m        \u001b[49m\u001b[38;5;28;43mlen\u001b[39;49m\u001b[43m(\u001b[49m\u001b[38;5;28;43mself\u001b[39;49m\u001b[38;5;241;43m.\u001b[39;49m\u001b[43mfunction_type\u001b[49m\u001b[38;5;241;43m.\u001b[39;49m\u001b[43mflat_outputs\u001b[49m\u001b[43m)\u001b[49m\u001b[43m,\u001b[49m\n\u001b[1;32m    200\u001b[0m \u001b[43m    \u001b[49m\u001b[43m)\u001b[49m\n\u001b[1;32m    201\u001b[0m   \u001b[38;5;28;01melse\u001b[39;00m:\n\u001b[1;32m    202\u001b[0m     outputs \u001b[38;5;241m=\u001b[39m make_call_op_in_graph(\u001b[38;5;28mself\u001b[39m, \u001b[38;5;28mlist\u001b[39m(args))\n",
      "File \u001b[0;32m~/.local/lib/python3.8/site-packages/tensorflow/python/eager/context.py:1457\u001b[0m, in \u001b[0;36mContext.call_function\u001b[0;34m(self, name, tensor_inputs, num_outputs)\u001b[0m\n\u001b[1;32m   1455\u001b[0m cancellation_context \u001b[38;5;241m=\u001b[39m cancellation\u001b[38;5;241m.\u001b[39mcontext()\n\u001b[1;32m   1456\u001b[0m \u001b[38;5;28;01mif\u001b[39;00m cancellation_context \u001b[38;5;129;01mis\u001b[39;00m \u001b[38;5;28;01mNone\u001b[39;00m:\n\u001b[0;32m-> 1457\u001b[0m   outputs \u001b[38;5;241m=\u001b[39m \u001b[43mexecute\u001b[49m\u001b[38;5;241;43m.\u001b[39;49m\u001b[43mexecute\u001b[49m\u001b[43m(\u001b[49m\n\u001b[1;32m   1458\u001b[0m \u001b[43m      \u001b[49m\u001b[43mname\u001b[49m\u001b[38;5;241;43m.\u001b[39;49m\u001b[43mdecode\u001b[49m\u001b[43m(\u001b[49m\u001b[38;5;124;43m\"\u001b[39;49m\u001b[38;5;124;43mutf-8\u001b[39;49m\u001b[38;5;124;43m\"\u001b[39;49m\u001b[43m)\u001b[49m\u001b[43m,\u001b[49m\n\u001b[1;32m   1459\u001b[0m \u001b[43m      \u001b[49m\u001b[43mnum_outputs\u001b[49m\u001b[38;5;241;43m=\u001b[39;49m\u001b[43mnum_outputs\u001b[49m\u001b[43m,\u001b[49m\n\u001b[1;32m   1460\u001b[0m \u001b[43m      \u001b[49m\u001b[43minputs\u001b[49m\u001b[38;5;241;43m=\u001b[39;49m\u001b[43mtensor_inputs\u001b[49m\u001b[43m,\u001b[49m\n\u001b[1;32m   1461\u001b[0m \u001b[43m      \u001b[49m\u001b[43mattrs\u001b[49m\u001b[38;5;241;43m=\u001b[39;49m\u001b[43mattrs\u001b[49m\u001b[43m,\u001b[49m\n\u001b[1;32m   1462\u001b[0m \u001b[43m      \u001b[49m\u001b[43mctx\u001b[49m\u001b[38;5;241;43m=\u001b[39;49m\u001b[38;5;28;43mself\u001b[39;49m\u001b[43m,\u001b[49m\n\u001b[1;32m   1463\u001b[0m \u001b[43m  \u001b[49m\u001b[43m)\u001b[49m\n\u001b[1;32m   1464\u001b[0m \u001b[38;5;28;01melse\u001b[39;00m:\n\u001b[1;32m   1465\u001b[0m   outputs \u001b[38;5;241m=\u001b[39m execute\u001b[38;5;241m.\u001b[39mexecute_with_cancellation(\n\u001b[1;32m   1466\u001b[0m       name\u001b[38;5;241m.\u001b[39mdecode(\u001b[38;5;124m\"\u001b[39m\u001b[38;5;124mutf-8\u001b[39m\u001b[38;5;124m\"\u001b[39m),\n\u001b[1;32m   1467\u001b[0m       num_outputs\u001b[38;5;241m=\u001b[39mnum_outputs,\n\u001b[0;32m   (...)\u001b[0m\n\u001b[1;32m   1471\u001b[0m       cancellation_manager\u001b[38;5;241m=\u001b[39mcancellation_context,\n\u001b[1;32m   1472\u001b[0m   )\n",
      "File \u001b[0;32m~/.local/lib/python3.8/site-packages/tensorflow/python/eager/execute.py:53\u001b[0m, in \u001b[0;36mquick_execute\u001b[0;34m(op_name, num_outputs, inputs, attrs, ctx, name)\u001b[0m\n\u001b[1;32m     51\u001b[0m \u001b[38;5;28;01mtry\u001b[39;00m:\n\u001b[1;32m     52\u001b[0m   ctx\u001b[38;5;241m.\u001b[39mensure_initialized()\n\u001b[0;32m---> 53\u001b[0m   tensors \u001b[38;5;241m=\u001b[39m \u001b[43mpywrap_tfe\u001b[49m\u001b[38;5;241;43m.\u001b[39;49m\u001b[43mTFE_Py_Execute\u001b[49m\u001b[43m(\u001b[49m\u001b[43mctx\u001b[49m\u001b[38;5;241;43m.\u001b[39;49m\u001b[43m_handle\u001b[49m\u001b[43m,\u001b[49m\u001b[43m \u001b[49m\u001b[43mdevice_name\u001b[49m\u001b[43m,\u001b[49m\u001b[43m \u001b[49m\u001b[43mop_name\u001b[49m\u001b[43m,\u001b[49m\n\u001b[1;32m     54\u001b[0m \u001b[43m                                      \u001b[49m\u001b[43minputs\u001b[49m\u001b[43m,\u001b[49m\u001b[43m \u001b[49m\u001b[43mattrs\u001b[49m\u001b[43m,\u001b[49m\u001b[43m \u001b[49m\u001b[43mnum_outputs\u001b[49m\u001b[43m)\u001b[49m\n\u001b[1;32m     55\u001b[0m \u001b[38;5;28;01mexcept\u001b[39;00m core\u001b[38;5;241m.\u001b[39m_NotOkStatusException \u001b[38;5;28;01mas\u001b[39;00m e:\n\u001b[1;32m     56\u001b[0m   \u001b[38;5;28;01mif\u001b[39;00m name \u001b[38;5;129;01mis\u001b[39;00m \u001b[38;5;129;01mnot\u001b[39;00m \u001b[38;5;28;01mNone\u001b[39;00m:\n",
      "\u001b[0;31mKeyboardInterrupt\u001b[0m: "
     ]
    }
   ],
   "source": [
    "#Train the CNNHyperModel model\n",
    "hypermodel, history = model.Entrainement_bayes()"
   ]
  },
  {
   "cell_type": "code",
   "execution_count": null,
   "id": "159a375d-f3b5-4047-9075-ad22fede4bd3",
   "metadata": {},
   "outputs": [],
   "source": [
    "plot_metrics(history)"
   ]
  },
  {
   "cell_type": "code",
   "execution_count": null,
   "id": "0cc6aca7-25ac-481a-86c5-fb93b412128c",
   "metadata": {},
   "outputs": [],
   "source": [
    "#hypermodel.save(f'{rundir}/Compare_visit/models/model_90780.h5')"
   ]
  },
  {
   "cell_type": "code",
   "execution_count": null,
   "id": "b9c9dee1-f1b5-4cfb-9f3f-a7bcd7c08786",
   "metadata": {
    "tags": []
   },
   "outputs": [],
   "source": [
    "#ypermodel_90780 = hypermodel\n",
    "hypermodel_90780 = tf.keras.models.load_model(f'{rundir}/Compare_visit/models/model_90780.h5')"
   ]
  },
  {
   "cell_type": "code",
   "execution_count": null,
   "id": "4ec327ca-20d0-439c-9d6f-b2edc7e9e436",
   "metadata": {},
   "outputs": [],
   "source": [
    "#Evaluate the model on testing set\n",
    "score_90780 = hypermodel_90780.evaluate(x_test_90780, y_test_90780, verbose=0)\n",
    "\n",
    "y_sigmoid_90780 = hypermodel_90780.predict(x_test_90780) #Table de probabilité\n",
    "df_test_90780['y_pred'] = np.argmax(y_sigmoid_90780, axis=-1) #Permet de recuperer la classe d'apartenance"
   ]
  },
  {
   "cell_type": "code",
   "execution_count": null,
   "id": "3c8727bc-fe22-4ccf-825a-7efec76e1d35",
   "metadata": {},
   "outputs": [],
   "source": [
    "print(df_test_90780['y_pred'])"
   ]
  },
  {
   "cell_type": "code",
   "execution_count": null,
   "id": "9c6de72a-37ef-4642-a61b-962ea14e75e1",
   "metadata": {},
   "outputs": [],
   "source": [
    "#Evaluate the model on the visit 93404 in order to compare with train on 4 visit\n",
    "score_90780_93404 = hypermodel_90780.evaluate(x_test_93404, y_test_93404, verbose=0)\n",
    "\n",
    "y_sigmoid_90780_93404 = hypermodel_90780.predict(x_test_93404) #Table de probabilité\n",
    "df_test_93404['y_pred_model_90780'] = np.argmax(y_sigmoid_90780_93404, axis=-1) #Permet de recuperer la classe d'apartenance"
   ]
  },
  {
   "cell_type": "markdown",
   "id": "fbd74d30-704d-4c82-a395-d7f73cc77212",
   "metadata": {
    "jp-MarkdownHeadingCollapsed": true,
    "tags": []
   },
   "source": [
    "# Entrainement du model visit 100764"
   ]
  },
  {
   "cell_type": "code",
   "execution_count": null,
   "id": "ecebaa04-e965-47a4-9655-3fea0ff96316",
   "metadata": {},
   "outputs": [],
   "source": [
    "# Create the CNNHyperModel model\n",
    "model = CNNHyperModel(input_shape=INPUT_SHAPE, num_classes=NUM_CLASSES, hyperband_max_epochs=HYPERBAND_MAX_EPOCHS,\n",
    "                      max_trials=MAX_TRIALS, executions_per_trial=EXECUTION_PER_TRIAL,\n",
    "                      x_train = x_train_100764, x_test=x_test_100764, y_train=y_train_100764, y_test=y_test_100764)\n"
   ]
  },
  {
   "cell_type": "code",
   "execution_count": null,
   "id": "5a78c33e-478c-4438-81f8-7113176ec2ec",
   "metadata": {
    "tags": []
   },
   "outputs": [],
   "source": [
    "#Train the CNNHyperModel model\n",
    "#hypermodel, history = model.Entrainement_bayes()"
   ]
  },
  {
   "cell_type": "code",
   "execution_count": null,
   "id": "c01a42a5-711d-433e-be4b-a2ab675ec29c",
   "metadata": {},
   "outputs": [],
   "source": [
    "#hypermodel.save(f'{rundir}/Compare_visit/models/model_100764.h5')"
   ]
  },
  {
   "cell_type": "code",
   "execution_count": null,
   "id": "0544d5fc-b938-4242-9161-dcf6fb87027e",
   "metadata": {
    "tags": []
   },
   "outputs": [],
   "source": [
    "hypermodel_100764 = tf.keras.models.load_model(f'{rundir}Compare_visit/models/model_100764.h5')"
   ]
  },
  {
   "cell_type": "code",
   "execution_count": null,
   "id": "7c315ed3-b5fc-4791-8461-831f0ce48b37",
   "metadata": {},
   "outputs": [],
   "source": [
    "#Evaluate the model on testing set\n",
    "score_100764 = hypermodel_100764.evaluate(x_test_100764, y_test_100764, verbose=0)\n",
    "\n",
    "y_sigmoid_100764 = hypermodel_100764.predict(x_test_100764) #Table de probabilité\n",
    "df_test_100764['y_pred'] = np.argmax(y_sigmoid_100764, axis=-1) #Permet de recuperer la classe d'apartenance"
   ]
  },
  {
   "cell_type": "code",
   "execution_count": null,
   "id": "17228770-d15b-48f9-9f1e-f0aa10b3d044",
   "metadata": {},
   "outputs": [],
   "source": [
    "#Evaluate the model on the visit 93404 in order to compare with train on 4 visit\n",
    "score_100764_93404 = hypermodel_100764.evaluate(x_test_93404, y_test_93404, verbose=0)\n",
    "\n",
    "y_sigmoid_100764_93404 = hypermodel_100764.predict(x_test_93404) #Table de probabilité\n",
    "df_test_93404['y_pred_model_100764'] = np.argmax(y_sigmoid_100764_93404, axis=-1) #Permet de recuperer la classe d'apartenance"
   ]
  },
  {
   "cell_type": "markdown",
   "id": "d392a231-98a3-4de2-99e1-855548241997",
   "metadata": {
    "jp-MarkdownHeadingCollapsed": true,
    "tags": []
   },
   "source": [
    "# Entrainement du model visit 101836"
   ]
  },
  {
   "cell_type": "code",
   "execution_count": null,
   "id": "ef9c99f9-c51c-4ab2-b91f-7e4812909b1a",
   "metadata": {},
   "outputs": [],
   "source": [
    "# Create the CNNHyperModel model\n",
    "model = CNNHyperModel(input_shape=INPUT_SHAPE, num_classes=NUM_CLASSES, hyperband_max_epochs=HYPERBAND_MAX_EPOCHS,\n",
    "                      max_trials=MAX_TRIALS, executions_per_trial=EXECUTION_PER_TRIAL,\n",
    "                      x_train = x_train_101836, x_test=x_test_101836, y_train=y_train_101836, y_test=y_test_101836)\n"
   ]
  },
  {
   "cell_type": "code",
   "execution_count": null,
   "id": "87bc1e8a-d38e-4a61-9b95-c46b89bdc220",
   "metadata": {
    "tags": []
   },
   "outputs": [],
   "source": [
    "#Train the CNNHyperModel model\n",
    "#hypermodel, history = model.Entrainement_bayes()"
   ]
  },
  {
   "cell_type": "code",
   "execution_count": null,
   "id": "0686c9e6-8d5a-4f7e-b0e6-b28a2aaa8917",
   "metadata": {},
   "outputs": [],
   "source": [
    "#hypermodel.save(f'{rundir}/Compare_visit/models/model_101836.h5')"
   ]
  },
  {
   "cell_type": "code",
   "execution_count": null,
   "id": "23aa737a-fd0d-4aec-aff4-807fc1470d5d",
   "metadata": {
    "tags": []
   },
   "outputs": [],
   "source": [
    "hypermodel_101836 = tf.keras.models.load_model(f'{rundir}Compare_visit/models/model_101836.h5')"
   ]
  },
  {
   "cell_type": "code",
   "execution_count": null,
   "id": "cfba7732-fa84-4c09-a006-c754c2363fff",
   "metadata": {},
   "outputs": [],
   "source": [
    "#Evaluate the model on testing set\n",
    "score_101836 = hypermodel_101836.evaluate(x_test_101836, y_test_101836, verbose=0)\n",
    "\n",
    "y_sigmoid_101836 = hypermodel_101836.predict(x_test_101836) #Table de probabilité\n",
    "df_test_101836['y_pred'] = np.argmax(y_sigmoid_101836, axis=-1) #Permet de recuperer la classe d'apartenance"
   ]
  },
  {
   "cell_type": "code",
   "execution_count": null,
   "id": "7e5af590-9504-49fd-ad96-e29ac4bdab07",
   "metadata": {},
   "outputs": [],
   "source": [
    "#Evaluate the model on the visit 93404 in order to compare with train on 4 visit\n",
    "score_101836_93404 = hypermodel_101836.evaluate(x_test_93404, y_test_93404, verbose=0)\n",
    "\n",
    "y_sigmoid_101836_93404 = hypermodel_101836.predict(x_test_93404) #Table de probabilité\n",
    "df_test_93404['y_pred_model_101836'] = np.argmax(y_sigmoid_101836_93404, axis=-1) #Permet de recuperer la classe d'apartenance"
   ]
  },
  {
   "cell_type": "markdown",
   "id": "984a0b8d-ef60-47a9-80cf-12b996ddb55a",
   "metadata": {
    "jp-MarkdownHeadingCollapsed": true,
    "tags": []
   },
   "source": [
    "# Entrainement du model visit 89762"
   ]
  },
  {
   "cell_type": "code",
   "execution_count": null,
   "id": "037a371d-c068-48fb-b3a6-b098112d5a1b",
   "metadata": {},
   "outputs": [],
   "source": [
    "# Create the CNNHyperModel model\n",
    "model = CNNHyperModel(input_shape=INPUT_SHAPE, num_classes=NUM_CLASSES, hyperband_max_epochs=HYPERBAND_MAX_EPOCHS,\n",
    "                      max_trials=MAX_TRIALS, executions_per_trial=EXECUTION_PER_TRIAL,\n",
    "                      x_train = x_train_89762, x_test=x_test_89762, y_train=y_train_89762, y_test=y_test_89762)\n"
   ]
  },
  {
   "cell_type": "code",
   "execution_count": null,
   "id": "461ccb6b-8b22-49f8-9d65-b06a477d488f",
   "metadata": {
    "tags": []
   },
   "outputs": [],
   "source": [
    "#Train the CNNHyperModel model\n",
    "#hypermodel, history = model.Entrainement_bayes()"
   ]
  },
  {
   "cell_type": "code",
   "execution_count": null,
   "id": "ddc38f47-77cd-42d7-a53a-f423a754befc",
   "metadata": {},
   "outputs": [],
   "source": [
    "#hypermodel.save(f'{rundir}/Compare_visit/models/model_89762.h5')"
   ]
  },
  {
   "cell_type": "code",
   "execution_count": null,
   "id": "96466c8b-938b-4c3d-830e-544b28b86a03",
   "metadata": {
    "tags": []
   },
   "outputs": [],
   "source": [
    "hypermodel_89762 = tf.keras.models.load_model(f'{rundir}Compare_visit/models/model_89762.h5')"
   ]
  },
  {
   "cell_type": "code",
   "execution_count": null,
   "id": "a947a783-05ad-4820-be1e-caf96c6026b4",
   "metadata": {},
   "outputs": [],
   "source": [
    "#Evaluate the model on testing set\n",
    "score_89762 = hypermodel_89762.evaluate(x_test_89762, y_test_89762, verbose=0)\n",
    "\n",
    "y_sigmoid_89762 = hypermodel_89762.predict(x_test_89762) #Table de probabilité\n",
    "df_test_89762['y_pred'] = np.argmax(y_sigmoid_89762, axis=-1) #Permet de recuperer la classe d'apartenance"
   ]
  },
  {
   "cell_type": "code",
   "execution_count": null,
   "id": "8ac64e50-b9b2-4618-8aed-0aaeda10c85a",
   "metadata": {},
   "outputs": [],
   "source": [
    "#Evaluate the model on the visit 93404 in order to compare with train on 4 visit\n",
    "score_89762_93404 = hypermodel_89762.evaluate(x_test_93404, y_test_93404, verbose=0)\n",
    "\n",
    "y_sigmoid_89762_93404 = hypermodel_89762.predict(x_test_93404) #Table de probabilité\n",
    "df_test_93404['y_pred_model_89762'] = np.argmax(y_sigmoid_89762_93404, axis=-1) #Permet de recuperer la classe d'apartenance"
   ]
  },
  {
   "cell_type": "markdown",
   "id": "07729498-11d2-44c2-9cca-1b732b07e49c",
   "metadata": {
    "jp-MarkdownHeadingCollapsed": true,
    "tags": []
   },
   "source": [
    "# Entrainement du model visit 89762 test sur visit 101836"
   ]
  },
  {
   "cell_type": "code",
   "execution_count": null,
   "id": "f26d7545-9f8b-4e41-b48d-6ab6bad7b6ea",
   "metadata": {},
   "outputs": [],
   "source": [
    "# Create the CNNHyperModel model\n",
    "model = CNNHyperModel(input_shape=INPUT_SHAPE, num_classes=NUM_CLASSES, hyperband_max_epochs=HYPERBAND_MAX_EPOCHS,\n",
    "                      max_trials=MAX_TRIALS, executions_per_trial=EXECUTION_PER_TRIAL,\n",
    "                      x_train = x_train_89762, x_test=x_test_101836, y_train=y_train_89762, y_test=y_test_101836)\n"
   ]
  },
  {
   "cell_type": "code",
   "execution_count": null,
   "id": "3128a6cd-6427-4be0-8bfc-9ae98f710692",
   "metadata": {
    "tags": []
   },
   "outputs": [],
   "source": [
    "#Train the CNNHyperModel model\n",
    "#hypermodel, history = model.Entrainement_bayes()"
   ]
  },
  {
   "cell_type": "code",
   "execution_count": null,
   "id": "3bf4236f-6795-4285-bed2-5e8c8ab25247",
   "metadata": {},
   "outputs": [],
   "source": [
    "#hypermodel.save(f'{rundir}/Compare_visit/models/model_train_89762_test_101836.h5')"
   ]
  },
  {
   "cell_type": "code",
   "execution_count": null,
   "id": "993a9374-595d-4229-950c-348bfe0fd4f6",
   "metadata": {
    "tags": []
   },
   "outputs": [],
   "source": [
    "hypermodel = tf.keras.models.load_model(f'{rundir}Compare_visit/models/model_train_89762_test_101836.h5')"
   ]
  },
  {
   "cell_type": "code",
   "execution_count": null,
   "id": "0c8c512f-060f-4164-b165-2cbf2fc946d7",
   "metadata": {},
   "outputs": [],
   "source": [
    "#Evaluate the model on testing set\n",
    "score_89762_101836 = hypermodel.evaluate(x_test_101836, y_test_101836, verbose=0)"
   ]
  },
  {
   "cell_type": "code",
   "execution_count": null,
   "id": "5ff2ac75-8ac3-415e-b150-b12247802300",
   "metadata": {},
   "outputs": [],
   "source": [
    "y_sigmoid = hypermodel.predict(x_test_101836) #Table de probabilité\n",
    "df_test_101836['y_pred_train_101836'] = np.argmax(y_sigmoid, axis=-1) #Permet de recuperer la classe d'apartenance"
   ]
  },
  {
   "cell_type": "markdown",
   "id": "f7a95bca-16d6-49aa-a45a-d34a9f8c390d",
   "metadata": {
    "jp-MarkdownHeadingCollapsed": true,
    "tags": []
   },
   "source": [
    "# Entrainement du model visit 101836 test sur visit 100764"
   ]
  },
  {
   "cell_type": "code",
   "execution_count": null,
   "id": "f7858742-e0d9-431c-9778-8aaf5f827457",
   "metadata": {},
   "outputs": [],
   "source": [
    "# Create the CNNHyperModel model\n",
    "model = CNNHyperModel(input_shape=INPUT_SHAPE, num_classes=NUM_CLASSES, hyperband_max_epochs=HYPERBAND_MAX_EPOCHS,\n",
    "                      max_trials=MAX_TRIALS, executions_per_trial=EXECUTION_PER_TRIAL,\n",
    "                      x_train = x_train_101836, x_test=x_test_100764, y_train=y_train_101836, y_test=y_test_100764)\n"
   ]
  },
  {
   "cell_type": "code",
   "execution_count": null,
   "id": "40762d91-d1bf-431b-b612-256d1cacff55",
   "metadata": {
    "tags": []
   },
   "outputs": [],
   "source": [
    "#Train the CNNHyperModel model\n",
    "#hypermodel, history = model.Entrainement_bayes()"
   ]
  },
  {
   "cell_type": "code",
   "execution_count": null,
   "id": "7e4cdcaf-b106-43ba-b590-46e79928f258",
   "metadata": {},
   "outputs": [],
   "source": [
    "#hypermodel.save(f'{rundir}/Compare_visit/models/model_train_101836_test_100764.h5')"
   ]
  },
  {
   "cell_type": "code",
   "execution_count": null,
   "id": "ea737c72-c9fb-44ea-928e-6cde65767de8",
   "metadata": {
    "tags": []
   },
   "outputs": [],
   "source": [
    "hypermodel = tf.keras.models.load_model(f'{rundir}Compare_visit/models/model_train_101836_test_100764.h5')"
   ]
  },
  {
   "cell_type": "code",
   "execution_count": null,
   "id": "5e35c853-5cb1-4fa0-adea-7dc84510c744",
   "metadata": {},
   "outputs": [],
   "source": [
    "#Evaluate the model on testing set\n",
    "score_101836_100764= hypermodel.evaluate(x_test_100764, y_test_100764, verbose=0)"
   ]
  },
  {
   "cell_type": "code",
   "execution_count": null,
   "id": "98bb1bca-e250-4b04-b794-d3c8f37f2bf5",
   "metadata": {},
   "outputs": [],
   "source": [
    "y_sigmoid = hypermodel.predict(x_test_100764) #Table de probabilité\n",
    "df_test_100764['y_pred_train_101836'] = np.argmax(y_sigmoid, axis=-1) #Permet de recuperer la classe d'apartenance"
   ]
  },
  {
   "cell_type": "markdown",
   "id": "30d752bb-bed9-4984-9f5d-fbfe2acf658f",
   "metadata": {
    "jp-MarkdownHeadingCollapsed": true,
    "tags": []
   },
   "source": [
    "# Resultats"
   ]
  },
  {
   "cell_type": "markdown",
   "id": "3b8162bf-af64-4aac-aaf8-0c04df014ecc",
   "metadata": {
    "jp-MarkdownHeadingCollapsed": true,
    "tags": []
   },
   "source": [
    "## Train sur 6 visit et 1 visite, test sur la meme visit"
   ]
  },
  {
   "cell_type": "markdown",
   "id": "18f07f69-6b53-4e06-882b-c83886add3ae",
   "metadata": {},
   "source": [
    "L'entrainement est realisé sur 6 visite dans le cas ou les données sont melangé et dans le cas ou les données ne sont pas melangé. L'entrainement est egalement realisé sur 1 seule visite.\n",
    "\n",
    "Le test est realisé sur la visite 93404."
   ]
  },
  {
   "cell_type": "code",
   "execution_count": null,
   "id": "96cbb122-8f43-414a-8811-9761e0657c80",
   "metadata": {},
   "outputs": [],
   "source": [
    "#Train, test sur les 4 visite melangé et prediction sur la visite 93404\n",
    "\n",
    "print(f'Test loss     : {score_best_model_global_6_visit[0]:4.4f}')\n",
    "print(f'Test accuracy : {score_best_model_global_6_visit[1]:4.4f}')\n",
    "\n",
    "#disp = ConfusionMatrixDisplay.from_predictions(y_test_93404, df_test_93404.y_pred_best_model_90780_global_split, display_labels = ['bogus', 'transient'],normalize='true', colorbar=False, cmap='Blues' )\n"
   ]
  },
  {
   "cell_type": "code",
   "execution_count": null,
   "id": "4d9f3a4d-0e63-4670-8bfa-1c9d5a43f01f",
   "metadata": {},
   "outputs": [],
   "source": [
    "#Train, test sur la visite 90780 et prediction sur la visite 93404\n",
    "\n",
    "print(f'Test loss     : {score_90780_93404[0]:4.4f}')\n",
    "print(f'Test accuracy : {score_90780_93404[1]:4.4f}')\n",
    "\n",
    "#disp = ConfusionMatrixDisplay.from_predictions(y_test_93404, df_test_93404.y_pred_best_model_90780_global_split, display_labels = ['bogus', 'transient'],normalize='true', colorbar=False, cmap='Blues' )\n"
   ]
  },
  {
   "cell_type": "markdown",
   "id": "4c657c07-63e8-4f51-8094-043c4fcc589e",
   "metadata": {},
   "source": [
    "## Train sur 42 visit et 1 visit, test sur la meme visit"
   ]
  },
  {
   "cell_type": "code",
   "execution_count": null,
   "id": "2ffc6fe5-4806-4d60-aaa1-9d80d2a2cb3f",
   "metadata": {},
   "outputs": [],
   "source": [
    "#Train, test sur les 4 visite melangé et prediction sur la visite 93404\n",
    "\n",
    "print(f'Test loss     : {score_best_model_global_42_visit[0]:4.4f}')\n",
    "print(f'Test accuracy : {score_best_model_global_42_visit[1]:4.4f}')\n",
    "\n",
    "disp = ConfusionMatrixDisplay.from_predictions(y_test_93404, df_test_93404.y_pred_best_model_global_42_visit, display_labels = ['bogus', 'transient'],normalize='true', colorbar=False, cmap='YlOrRd' )\n"
   ]
  },
  {
   "cell_type": "markdown",
   "id": "b1f474c1-3b1b-48b8-9c77-d19a2b9d58c9",
   "metadata": {
    "jp-MarkdownHeadingCollapsed": true,
    "tags": []
   },
   "source": [
    "## Visit by visit"
   ]
  },
  {
   "cell_type": "code",
   "execution_count": null,
   "id": "252093ec-f66f-4fcc-92b6-d748ded0af8c",
   "metadata": {},
   "outputs": [],
   "source": [
    "#Train, test et prediction sur la visite 90780\n",
    "print(f'Test loss     : {score_90780[0]:4.4f}')\n",
    "print(f'Test accuracy : {score_90780[1]:4.4f}')\n",
    "\n",
    "disp = ConfusionMatrixDisplay.from_predictions(y_test_90780, df_test_90780.y_pred, display_labels = ['bogus', 'transient'],normalize='true', colorbar=False, cmap='Blues' )\n"
   ]
  },
  {
   "cell_type": "code",
   "execution_count": null,
   "id": "71542603-fb9d-49d2-8672-7b2459a94b23",
   "metadata": {},
   "outputs": [],
   "source": [
    "#Train, test et prediction sur la visite 100764\n",
    "print(f'Test loss     : {score_100764[0]:4.4f}')\n",
    "print(f'Test accuracy : {score_100764[1]:4.4f}')\n",
    "\n",
    "#disp = ConfusionMatrixDisplay.from_predictions(y_test_100764, df_test_100764.y_pred, display_labels = ['bogus', 'transient'],normalize='true', colorbar=False, cmap='Blues' )\n"
   ]
  },
  {
   "cell_type": "code",
   "execution_count": null,
   "id": "23663d73-b993-47d5-9161-1dea6a8d86a7",
   "metadata": {},
   "outputs": [],
   "source": [
    "#Train, test et prediction sur la visite 101836\n",
    "\n",
    "print(f'Test loss     : {score_101836[0]:4.4f}')\n",
    "print(f'Test accuracy : {score_101836[1]:4.4f}')\n",
    "\n",
    "#disp = ConfusionMatrixDisplay.from_predictions(y_test_101836, df_test_101836.y_pred, display_labels = ['bogus', 'transient'],normalize='true', colorbar=False, cmap='Blues' )\n"
   ]
  },
  {
   "cell_type": "code",
   "execution_count": null,
   "id": "b11a534d-da9c-460b-9796-64a78313b871",
   "metadata": {},
   "outputs": [],
   "source": [
    "#Train, test et prediction sur la visite 89762\n",
    "\n",
    "print(f'Test loss     : {score_89762[0]:4.4f}')\n",
    "print(f'Test accuracy : {score_89762[1]:4.4f}')\n",
    "\n",
    "#disp = ConfusionMatrixDisplay.from_predictions(y_test_89762, df_test_89762.y_pred, display_labels = ['bogus', 'transient'],normalize='true', colorbar=False, cmap='Blues' )\n"
   ]
  },
  {
   "cell_type": "markdown",
   "id": "57401e3b-4a5f-4f62-bd8e-5904691b752a",
   "metadata": {
    "jp-MarkdownHeadingCollapsed": true,
    "tags": []
   },
   "source": [
    "## Train on one visit test on other one"
   ]
  },
  {
   "cell_type": "code",
   "execution_count": null,
   "id": "c2b3e3bc-bd07-4897-889e-baa3d25de5fa",
   "metadata": {},
   "outputs": [],
   "source": [
    "#Train, test sur la visite 89762 et prediction sur la visite 101836\n",
    "\n",
    "print(f'Test loss     : {score_89762_101836[0]:4.4f}')\n",
    "print(f'Test accuracy : {score_89762_101836[1]:4.4f}')\n",
    "\n",
    "#disp = ConfusionMatrixDisplay.from_predictions(y_test_101836, df_test_101836.y_pred_train_101836, display_labels = ['bogus', 'transient'],normalize='true', colorbar=False, cmap='Blues' )\n"
   ]
  },
  {
   "cell_type": "code",
   "execution_count": null,
   "id": "1f2b0d45-3713-493a-b887-c96787cf4506",
   "metadata": {},
   "outputs": [],
   "source": [
    "#Train, test sur la visite 101836 et prediction sur la visite 100764\n",
    "\n",
    "print(f'Test loss     : {score_101836_100764[0]:4.4f}')\n",
    "print(f'Test accuracy : {score_101836_100764[1]:4.4f}')\n",
    "\n",
    "#disp = ConfusionMatrixDisplay.from_predictions(y_test_100764, df_test_100764.y_pred_train_101836, display_labels = ['bogus', 'transient'],normalize='true', colorbar=False, cmap='Blues' )\n"
   ]
  },
  {
   "cell_type": "markdown",
   "id": "626d37fa-4a3e-443c-a244-ce9bad450075",
   "metadata": {
    "tags": []
   },
   "source": [
    "## Plot global"
   ]
  },
  {
   "cell_type": "code",
   "execution_count": null,
   "id": "32113c2d-c210-4d03-afe6-2bf1ea52b9f5",
   "metadata": {
    "tags": []
   },
   "outputs": [],
   "source": [
    "name_1 =['42 visit','12 visit', '6 visit', '4 visit', 'visit 90780', 'visit 100764', 'visit 101836', 'visit 89762']\n",
    "y_1=[score_best_model_global_42_visit[1],\n",
    "    score_best_model_global_12_visit[1], \n",
    "     score_best_model_global_6_visit[1],\n",
    "     score_best_model_global_4_visit[1], \n",
    "     score_90780_93404[1],\n",
    "     score_100764_93404[1], \n",
    "     score_101836_93404[1], \n",
    "     score_89762_93404[1]]\n",
    "\n",
    "name_2 =['visit 90780', 'visit 100764', 'visit 101836', 'visit 89762']\n",
    "\n",
    "y_2=[score_90780[1], score_100764[1], score_101836[1], score_89762[1]]\n",
    "\n",
    "name_3 = ['42 visit', '12 visit', '6 visit', '4 visit']\n",
    "\n",
    "y_3 = [score_best_model_global_42_visit_90780[1],score_best_model_global_12_visit_90780[1], score_best_model_global_6_visit_90780[1], score_best_model_global_4_visit_90780[1]]\n",
    "       \n",
    "name_4 = ['42 visit', '12 visit', '6 visit', '4 visit']\n",
    "       \n",
    "y_4 = [score_best_model_global_42_visit_101836[1], score_best_model_global_12_visit_101836[1], score_best_model_global_6_visit_101836[1], score_best_model_global_4_visit_101836[1]]\n"
   ]
  },
  {
   "cell_type": "code",
   "execution_count": null,
   "id": "78c77990-7085-4762-9ca1-ae885d57a902",
   "metadata": {
    "tags": []
   },
   "outputs": [],
   "source": [
    "# Créer le diagramme à barres\n",
    "fig, ax = plt.subplots(figsize=(8, 3), dpi=600)\n",
    "ax.tick_params(axis='both', which='major', labelsize=6)\n",
    "\n",
    "ax.grid(True, alpha=0.2) \n",
    "ax.scatter(name_1, y_1, color='blue', label='test visit 93404')\n",
    "ax.scatter(name_2, y_2, color='red', label='test same visit')\n",
    "ax.scatter(name_3, y_3, color='green', label='test visit 90780')\n",
    "ax.scatter(name_4, y_4, color='orange', label='test visit 101836')\n",
    "\n",
    "\n",
    "# Personnaliser l'apparence\n",
    "ax.set_ylabel('Accuracy', fontsize=6)\n",
    "ax.set_xticks(name_1 )\n",
    "ax.legend(loc='lower left', fontsize=6)\n",
    "#ax.set_ylim([0, 1])\n",
    "\n",
    "fig.subplots_adjust(right=0.8)\n",
    "\n",
    "# Afficher le diagramme\n",
    "#plt.savefig('/sps/lsst/users/mguy/bogus_detection/bogus_detection_v7/Train_model/Figure_train_model/Comparaison_accuracy_train_model.png', dpi=400)\n",
    "plt.show()\n"
   ]
  },
  {
   "cell_type": "code",
   "execution_count": null,
   "id": "6ac703ee-824a-431f-bec5-15603fc86da8",
   "metadata": {},
   "outputs": [],
   "source": [
    "df_train_90780['SNR_base_CircularApertureFlux_4_5']"
   ]
  },
  {
   "cell_type": "markdown",
   "id": "beef7a3a-6c60-48c3-b38d-e91321ac722f",
   "metadata": {
    "jp-MarkdownHeadingCollapsed": true,
    "tags": []
   },
   "source": [
    "# ROC Curve"
   ]
  },
  {
   "cell_type": "markdown",
   "id": "92dfa3f9-ec9d-4ea5-ba7c-a48f409d3f5a",
   "metadata": {},
   "source": [
    "Computation of the ROC curve (receiver operating characteristics) and the AUC (area under the curve)\n",
    "\n",
    "AUC : \n",
    "\n",
    "* represent the degree of mesure of separability\n",
    "* how much the model is capable of distinguish between classes\n",
    "* higher the AUC is, better the model is\n",
    "\n",
    "Compute :\n",
    "\n",
    "FPR : False positive ratio; proportion of the bogus class got incorrectly classified\n",
    "\n",
    "TPR : True positive ratio; proportion of the transient class got correctly classified\n",
    "\n",
    "\n",
    "<br>\n",
    "<br>\n",
    "\n",
    "\\begin{equation}\n",
    "    FPR = \\frac{FP}{TN + FP} \\qquad TPR = \\frac{TP}{TP + FN}\n",
    "\\end{equation}"
   ]
  },
  {
   "cell_type": "markdown",
   "id": "bd398738-27c1-4eb0-ad4a-cc496b966cbc",
   "metadata": {
    "jp-MarkdownHeadingCollapsed": true,
    "tags": []
   },
   "source": [
    "## Calcul"
   ]
  },
  {
   "cell_type": "code",
   "execution_count": null,
   "id": "5b95d88d-83fb-4caa-a63f-d5ee957762ef",
   "metadata": {},
   "outputs": [],
   "source": [
    "y_sigmoid_model = [y_sigmoid_42_visit, y_sigmoid_12_visit, y_sigmoid_6_visit_93404, y_sigmoid_90780_93404,\n",
    "                   y_sigmoid_100764_93404, y_sigmoid_101836_93404,\n",
    "                   y_sigmoid_89762_93404]\n",
    "\n",
    "column_model = [\"42_visit\", \"12_visit\", \"6_visit\", \"visit_90780\", \"visit_100764\",\n",
    "                   \"visit_101836\", \"visit_89762\"]\n",
    "\n",
    "\n",
    "\n",
    "y_sigmoid_model_2=[y_sigmoid_90780, y_sigmoid_100764,\n",
    "                   y_sigmoid_101836, y_sigmoid_89762]\n",
    "\n",
    "column_model_2 =[ 'visit_90780', 'visit_100764', 'visit_101836', 'visit_89762']\n",
    "\n",
    "y_test_2 = [y_test_90780, y_test_100764, y_test_101836, y_test_89762]\n",
    "\n",
    "\n",
    "\n",
    "column_model_3 = ['42_visit', '12_visit', '6_visit']\n",
    "\n",
    "y_sigmoid_model_3 = [y_sigmoid_42_visit_90780, y_sigmoid_12_visit_90780, y_sigmoid_6_visit_90780]\n"
   ]
  },
  {
   "cell_type": "code",
   "execution_count": null,
   "id": "7d505962-992b-43c8-90e5-57f179bac98b",
   "metadata": {
    "tags": []
   },
   "outputs": [],
   "source": [
    "def ROC( y_sigmoid, y_test):\n",
    "    proba = np.arange(0.05, 1, 0.01)\n",
    "    TPR = []\n",
    "    FPR = []\n",
    "    for j in proba:\n",
    "        classe = []\n",
    "        for i in y_sigmoid[:,1]:\n",
    "            if i<j:\n",
    "                classe.append(0)\n",
    "            else:\n",
    "                classe.append(1)\n",
    "\n",
    "        CM = confusion_matrix(y_test, classe)\n",
    "        TPR.append(CM[1,1]/(CM[1,1]+CM[1,0]))\n",
    "        FPR.append(CM[0,1]/(CM[0,0]+CM[0,1]))\n",
    "    AUC = auc(FPR, TPR)\n",
    "    return TPR, FPR, AUC"
   ]
  },
  {
   "cell_type": "code",
   "execution_count": null,
   "id": "077c7d3f-554d-4ac9-b095-76e141895f94",
   "metadata": {
    "tags": []
   },
   "outputs": [],
   "source": [
    "# Calcule la courbe ROC et l'AUC dans le cas du test sur la visit 93404\n",
    "TPR_ = {}\n",
    "FPR_ = {}\n",
    "AUC_ = {}\n",
    "\n",
    "for k, l in zip(y_sigmoid_model, column_model):\n",
    "    TPR, FPR, AUC = ROC(k, y_test_93404)\n",
    "    TPR_[l]=TPR\n",
    "    FPR_[l]=FPR\n",
    "    AUC_[l]=AUC"
   ]
  },
  {
   "cell_type": "code",
   "execution_count": null,
   "id": "ea5a98de-a580-4ea7-8ae7-c8171515e699",
   "metadata": {
    "tags": []
   },
   "outputs": [],
   "source": [
    "# Calcule la courbe ROC et l'AUC dans le cas du test sur la meme visit que celle du train\n",
    "TPR_2_ = {}\n",
    "FPR_2_ = {}\n",
    "AUC_2_ = {}\n",
    "\n",
    "for k, l, m in zip(y_sigmoid_model_2, column_model_2, y_test_2):\n",
    "    TPR, FPR, AUC = ROC( k, m)\n",
    "    TPR_2_[l]=TPR\n",
    "    FPR_2_[l]=FPR\n",
    "    AUC_2_[l]=AUC"
   ]
  },
  {
   "cell_type": "code",
   "execution_count": null,
   "id": "6609fcac-2e0f-44cc-8142-02bba1ad0a62",
   "metadata": {
    "tags": []
   },
   "outputs": [],
   "source": [
    "# Calcule la courbe ROC et l'AUC dans le cas du test sur la meme visit que celle du train\n",
    "TPR_3_ = {}\n",
    "FPR_3_ = {}\n",
    "AUC_3_ = {}\n",
    "\n",
    "for k, l in zip(y_sigmoid_model_3, column_model_3):\n",
    "    TPR, FPR, AUC = ROC( k, y_test_90780)\n",
    "    TPR_3_[l]=TPR\n",
    "    FPR_3_[l]=FPR\n",
    "    AUC_3_[l]=AUC"
   ]
  },
  {
   "cell_type": "markdown",
   "id": "1218843d-a574-4c78-8309-67b3e8fd955a",
   "metadata": {
    "tags": []
   },
   "source": [
    "## Diagramme"
   ]
  },
  {
   "cell_type": "code",
   "execution_count": null,
   "id": "dc1aad65-08f1-4d87-8adb-a600a764c824",
   "metadata": {},
   "outputs": [],
   "source": [
    "TOOLS = \"pan,wheel_zoom,box_zoom,reset,save,box_select\"\n",
    "\n",
    "p = figure(x_axis_label='FPR', y_axis_label='TPR',tools=TOOLS, width=800, height=400)\n",
    "colors = ['darkorchid','brown','darkcyan','black','orange', 'green', \"olive\", \"mediumvioletred\", \"gray\", \"pink\", \"brown\"]\n",
    "\n",
    "\n",
    "for l, m in zip(column_model, colors):\n",
    "    p.scatter(FPR_[l], TPR_[l], color=m, size=8, legend_label=f'threshold_{l}')\n",
    "\n",
    "p.add_layout(p.legend[0], 'right')\n",
    "\n",
    "p.legend.title = 'Model'\n",
    "\n",
    "show(p)"
   ]
  },
  {
   "cell_type": "code",
   "execution_count": null,
   "id": "21999089-6209-494a-a5c2-5c5f3486d8b9",
   "metadata": {},
   "outputs": [],
   "source": [
    "TOOLS = \"pan,wheel_zoom,box_zoom,reset,save,box_select\"\n",
    "\n",
    "p2 = figure(x_axis_label='FPR', y_axis_label='TPR',tools=TOOLS, width=800, height=400)\n",
    "colors = ['darkorchid','brown','darkcyan','black','orange', 'green', \"olive\", \"mediumvioletred\", \"gray\", \"pink\", \"brown\"]\n",
    "\n",
    "\n",
    "for l, m in zip(column_model, colors):\n",
    "    p2.line(FPR_[l], TPR_[l], color=m, legend_label=f'threshold_{l}')\n",
    "\n",
    "p2.add_layout(p2.legend[0], 'right')\n",
    "\n",
    "p2.legend.title = 'Model'\n",
    "\n",
    "show(p2)"
   ]
  },
  {
   "cell_type": "code",
   "execution_count": null,
   "id": "85788424-3f87-4135-bc78-b8ea6835099c",
   "metadata": {},
   "outputs": [],
   "source": [
    "TOOLS = \"pan,wheel_zoom,box_zoom,reset,save,box_select\"\n",
    "\n",
    "p3 = figure(title=\"AUC\",x_range=column_model,tools=TOOLS, width=800, height=400)\n",
    "\n",
    "for l in column_model:\n",
    "    p3.scatter(x=[l], y=[AUC_[l]], color='blue',size=8, legend_label=f'visit 93404')\n",
    "\n",
    "for m in column_model_2:  \n",
    "    p3.scatter([m], [AUC_2_[m]], color='red',size=8, legend_label=f'test same visit')\n",
    "\n",
    "for n in column_model_3:  \n",
    "    p3.scatter([n], [AUC_3_[n]], color='orange',size=8, legend_label=f'visit 90780')\n",
    "\n",
    "p3.add_layout(p3.legend[0], 'right')\n",
    "\n",
    "p3.legend.title = 'Model'\n",
    "\n",
    "show(p3)"
   ]
  },
  {
   "cell_type": "markdown",
   "id": "38e5e538-5c04-4363-b19a-9431619875eb",
   "metadata": {
    "jp-MarkdownHeadingCollapsed": true,
    "tags": []
   },
   "source": [
    "# Band analysis training "
   ]
  },
  {
   "cell_type": "code",
   "execution_count": null,
   "id": "156325b6-c837-4c95-874a-d60a5df2104f",
   "metadata": {
    "tags": []
   },
   "outputs": [],
   "source": [
    "filt_dict={90752: 'g',\n",
    " 95148: 'g',\n",
    " 97582: 'g',\n",
    " 101500: 'g',\n",
    " 103076: 'g',\n",
    " 104856: 'g',\n",
    " 106078: 'g',\n",
    " 107882: 'g',\n",
    " 113176: 'g',\n",
    " 91556: 'r',\n",
    " 93404: 'r',\n",
    " 96898: 'r',\n",
    " 101836: 'r',\n",
    " 103166: 'r',\n",
    " 105108: 'r',\n",
    " 106532: 'r',\n",
    " 108692: 'r',\n",
    " 111352: 'r',\n",
    " 90780: 'i',\n",
    " 91898: 'i',\n",
    " 93410: 'i',\n",
    " 95092: 'i',\n",
    " 97026: 'i',\n",
    " 100764: 'i',\n",
    " 103712: 'i',\n",
    " 104618: 'i',\n",
    " 106342: 'i',\n",
    " 108216: 'i',\n",
    " 113142: 'i',\n",
    " 113476: 'i',\n",
    " 89762: 'z',\n",
    " 91922: 'z',\n",
    " 92502: 'z',\n",
    " 95084: 'z',\n",
    " 96222: 'z',\n",
    " 100824: 'z',\n",
    " 102426: 'z',\n",
    " 104516: 'z',\n",
    " 106144: 'z',\n",
    " 107976: 'z',\n",
    " 111426: 'z',\n",
    " 114502: 'z',\n",
    " 89816: 'y',\n",
    " 95820: 'y',\n",
    " 97608: 'y',\n",
    " 102128: 'y',\n",
    " 104180: 'y',\n",
    " 105560: 'y',\n",
    " 105748: 'y',\n",
    " 108242: 'y',\n",
    " 110398: 'y'}\n"
   ]
  },
  {
   "cell_type": "markdown",
   "id": "19bdeca5-bc15-463c-b142-a6ceeb6290a3",
   "metadata": {},
   "source": [
    "[90780 i, 100764 i, 101836 r, 89762 z, 93404 r]"
   ]
  },
  {
   "cell_type": "markdown",
   "id": "a9fffd5e-03dc-44b2-be9e-9ef6323011b5",
   "metadata": {
    "tags": []
   },
   "source": [
    "## G band"
   ]
  },
  {
   "cell_type": "code",
   "execution_count": null,
   "id": "7c2c9588-1b86-4804-a15a-f7f875b480a1",
   "metadata": {
    "tags": []
   },
   "outputs": [],
   "source": [
    "nbre_6_visit_g=[95148, 97582, 101500, 103076, 104856, 106078, 107882]\n",
    "\n",
    "\n"
   ]
  },
  {
   "cell_type": "code",
   "execution_count": null,
   "id": "b3abd9ef-2596-4c5e-b42f-f32838b43c2e",
   "metadata": {},
   "outputs": [],
   "source": [
    "#Recovery of normalize data and dataframe which contains features\n",
    "data = retrieve_data(nbre_visit=nbre_6_visit_g, nbre_data = nbre_data)\n",
    "df_train_6_visit_g, df_test_6_visit_g, x_train_6_visit_g, x_test_6_visit_g, y_train_6_visit_g, y_test_6_visit_g = data.donnees(test_size=test_size)"
   ]
  },
  {
   "cell_type": "code",
   "execution_count": null,
   "id": "94c94623-ec84-4633-a9b2-85208f565e86",
   "metadata": {},
   "outputs": [],
   "source": [
    "#Test set of the same band\n",
    "#Recovery of normalize data and dataframe which contains features\n",
    "data_90752 = retrieve_data(nbre_visit=90752)\n",
    "df_train_90752, df_test_90752, x_train_90752, x_test_90752, y_train_90752, y_test_90752 = data_90752.donnees(test_size=test_size)"
   ]
  },
  {
   "cell_type": "code",
   "execution_count": null,
   "id": "7ed7364e-2fc1-4e28-8a78-e1d3f34bfef8",
   "metadata": {},
   "outputs": [],
   "source": [
    "# Create the CNNHyperModel model\n",
    "model_6_visit_g = CNNHyperModel(input_shape=INPUT_SHAPE, num_classes=NUM_CLASSES, hyperband_max_epochs=HYPERBAND_MAX_EPOCHS,\n",
    "                      max_trials=MAX_TRIALS, executions_per_trial=EXECUTION_PER_TRIAL,\n",
    "                        x_train = x_train_6_visit_g, x_test=x_test_6_visit_g, y_train=y_train_6_visit_g, y_test=y_test_6_visit_g)\n"
   ]
  },
  {
   "cell_type": "code",
   "execution_count": null,
   "id": "1c80ffe1-d771-4a45-a366-65728b46268b",
   "metadata": {
    "tags": []
   },
   "outputs": [],
   "source": [
    "#Train the CNNHyperModel model\n",
    "#hypermodel_6_visit_g, history_6_visit_g = model_6_visit_g.Entrainement_bayes()"
   ]
  },
  {
   "cell_type": "code",
   "execution_count": null,
   "id": "f703191c-e1b0-45de-ae61-e46d54f41302",
   "metadata": {},
   "outputs": [],
   "source": [
    "rundir = '/sps/lsst/users/rbonnetguerrini/bogus_detection_v10/'\n"
   ]
  },
  {
   "cell_type": "code",
   "execution_count": null,
   "id": "6d3b295d-13be-4558-9c2c-0bbc05686494",
   "metadata": {
    "tags": []
   },
   "outputs": [],
   "source": [
    "#hypermodel_6_visit_g.save(f'{rundir}/Compare_visit/models/model_6_visit_g.h5')"
   ]
  },
  {
   "cell_type": "code",
   "execution_count": null,
   "id": "de9aa036-3b37-4e85-9b57-85700481991d",
   "metadata": {},
   "outputs": [],
   "source": [
    "hypermodel_6_visit_g = tf.keras.models.load_model(f'{rundir}Compare_visit/models/model_6_visit_g.h5')"
   ]
  },
  {
   "cell_type": "code",
   "execution_count": null,
   "id": "c3950420-5362-4895-94b1-df1b6f7e2af8",
   "metadata": {},
   "outputs": [],
   "source": [
    "#Evaluate the model on testing set of the same band \n",
    "score_best_model_global_6_visit_g = hypermodel_6_visit_g.evaluate(x_test_90752, y_test_90752, verbose=0)\n",
    "\n",
    "y_sigmoid_6_visit_g = hypermodel_6_visit_g.predict(x_test_90752) #Table de probabilité\n",
    "df_test_90752['y_pred_best_model_global_6_visit_g'] = np.argmax(y_sigmoid_6_visit_g, axis=-1) #Permet de recuperer la classe d'apartenance\n"
   ]
  },
  {
   "cell_type": "code",
   "execution_count": null,
   "id": "543d7bc6-4ac9-449f-a156-9f5596e18b46",
   "metadata": {},
   "outputs": [],
   "source": [
    "#Evaluate the model on testing set\n",
    "score_best_model_global_6_visit_g = hypermodel_6_visit_g.evaluate(x_test_93404, y_test_93404, verbose=0)\n",
    "\n",
    "y_sigmoid_6_visit_g = hypermodel_6_visit_g.predict(x_test_93404) #Table de probabilité\n",
    "df_test_93404['y_pred_best_model_global_6_visit_g'] = np.argmax(y_sigmoid_6_visit_g, axis=-1) #Permet de recuperer la classe d'apartenance\n"
   ]
  },
  {
   "cell_type": "code",
   "execution_count": null,
   "id": "11221c1f-ff2f-48e0-af86-f7df27ddd282",
   "metadata": {},
   "outputs": [],
   "source": [
    "#Evaluate the model on the visit 90780 in order to compare with train on 4 visit\n",
    "score_best_model_global_6_visit_g_90780 = hypermodel_6_visit_g.evaluate(x_test_90780, y_test_90780, verbose=0)\n",
    "\n",
    "y_sigmoid_6_visit_g_90780 = hypermodel_6_visit_g.predict(x_test_90780) #Table de probabilité\n",
    "df_test_90780['y_pred_best_model_global_6_visit_g_90780'] = np.argmax(y_sigmoid_6_visit_g_90780, axis=-1) #Permet de recuperer la classe d'apartenance"
   ]
  },
  {
   "cell_type": "code",
   "execution_count": null,
   "id": "1f3fd6e1-301f-4049-827f-f4bf6d042e68",
   "metadata": {},
   "outputs": [],
   "source": [
    "#Evaluate the model on the visit 101836 in order to compare with train on 4 visit\n",
    "score_best_model_global_6_visit_g_101836 = hypermodel_6_visit_g.evaluate(x_test_101836, y_test_101836, verbose=0)\n",
    "\n",
    "y_sigmoid_6_visit_g_101836 = hypermodel_6_visit_g.predict(x_test_101836) #Table de probabilité\n",
    "df_test_101836['y_pred_best_model_global_6_visit_g_101836'] = np.argmax(y_sigmoid_6_visit_g_101836, axis=-1) #Permet de recuperer la classe d'apartenance"
   ]
  },
  {
   "cell_type": "markdown",
   "id": "74a14c7b-fca0-4b79-a418-9f0d74235a8c",
   "metadata": {
    "tags": []
   },
   "source": [
    "## Band R"
   ]
  },
  {
   "cell_type": "code",
   "execution_count": null,
   "id": "6f85e60e-5314-474d-9956-8e93ffe4ff6e",
   "metadata": {
    "tags": []
   },
   "outputs": [],
   "source": [
    "nbre_6_visit_r=[96898, 103166, 105108, 106532, 108692, 111352]"
   ]
  },
  {
   "cell_type": "code",
   "execution_count": null,
   "id": "7c4199f4-8a40-4d4e-bce4-101b175d8cd1",
   "metadata": {},
   "outputs": [],
   "source": [
    "# Recovery of normalize data and dataframe which contains features\n",
    "data = retrieve_data(nbre_visit=nbre_6_visit_r, nbre_data = nbre_data)\n",
    "df_train_6_visit_r, df_test_6_visit_r, x_train_6_visit_r, x_test_6_visit_r, y_train_6_visit_r, y_test_6_visit_r = data.donnees(test_size=test_size)"
   ]
  },
  {
   "cell_type": "code",
   "execution_count": null,
   "id": "84f45eeb-08de-4ab3-b3a6-094787291f67",
   "metadata": {},
   "outputs": [],
   "source": [
    "# Recovery of normalize data and dataframe which contains features\n",
    "data_93404 = retrieve_data(nbre_visit=93404, nbre_data = nbre_data)\n",
    "df_train_93404, df_test_93404, x_train_93404, x_test_93404, y_train_93404, y_test_93404 = data_93404.donnees(test_size=test_size)\n"
   ]
  },
  {
   "cell_type": "code",
   "execution_count": null,
   "id": "628c08dc-737f-4b70-a896-10da13b50df9",
   "metadata": {},
   "outputs": [],
   "source": [
    "# Create the CNNHyperModel model\n",
    "model_6_visit_r = CNNHyperModel(input_shape=INPUT_SHAPE, num_classes=NUM_CLASSES, hyperband_max_epochs=HYPERBAND_MAX_EPOCHS,\n",
    "                      max_trials=MAX_TRIALS, executions_per_trial=EXECUTION_PER_TRIAL,\n",
    "                        x_train = x_train_6_visit_r, x_test=x_test_6_visit_r, y_train=y_train_6_visit_r, y_test=y_test_6_visit_r)\n"
   ]
  },
  {
   "cell_type": "code",
   "execution_count": null,
   "id": "e01dd242-4397-4bd0-8c70-44a84bdbe9eb",
   "metadata": {
    "tags": []
   },
   "outputs": [],
   "source": [
    "#Train the CNNHyperModel model\n",
    "#hypermodel_6_visit_r, history_6_visit_r = model_6_visit_r.Entrainement_bayes()"
   ]
  },
  {
   "cell_type": "code",
   "execution_count": null,
   "id": "9861cc5f-f594-40f2-bd9d-e6c679a6ad62",
   "metadata": {},
   "outputs": [],
   "source": [
    "rundir = '/sps/lsst/users/rbonnetguerrini/bogus_detection_v10/'\n"
   ]
  },
  {
   "cell_type": "code",
   "execution_count": null,
   "id": "68e9dd6c-f665-4e42-b120-002a68f40b16",
   "metadata": {
    "tags": []
   },
   "outputs": [],
   "source": [
    "#hypermodel_6_visit_r.save(f'{rundir}/Compare_visit/models/model_6_visit_r.h5')"
   ]
  },
  {
   "cell_type": "code",
   "execution_count": null,
   "id": "b1ac36a4-f987-432c-80a7-b2933561b21e",
   "metadata": {},
   "outputs": [],
   "source": [
    "hypermodel_6_visit_r = tf.keras.models.load_model(f'{rundir}Compare_visit/models/model_6_visit_r.h5')"
   ]
  },
  {
   "cell_type": "code",
   "execution_count": null,
   "id": "09896f00-9c0f-4805-b5f3-3298327e4e18",
   "metadata": {},
   "outputs": [],
   "source": [
    "#Evaluate the model on testing set WITH SAME BAND\n",
    "score_best_model_global_6_visit_r = hypermodel_6_visit_r.evaluate(x_test_93404, y_test_93404, verbose=0)\n",
    "\n",
    "y_sigmoid_6_visit_r = hypermodel_6_visit_r.predict(x_test_93404) #Table de probabilité\n",
    "\n",
    "\n",
    "df_test_93404['y_pred_best_model_global_6_visit_r'] = np.argmax(y_sigmoid_6_visit_r, axis=-1) #Permet de recuperer la classe d'apartenance\n"
   ]
  },
  {
   "cell_type": "code",
   "execution_count": null,
   "id": "bb0b9cb0-78b4-45cc-8095-b79015616818",
   "metadata": {},
   "outputs": [],
   "source": [
    "#Evaluate the model on the visit 90780 in order to compare with train on 4 visit\n",
    "score_best_model_global_6_visit_r_90780 = hypermodel_6_visit_r.evaluate(x_test_90780, y_test_90780, verbose=0)\n",
    "\n",
    "y_sigmoid_6_visit_r_90780 = hypermodel_6_visit_r.predict(x_test_90780) #Table de probabilité\n",
    "df_test_90780['y_pred_best_model_global_6_visit_r_90780'] = np.argmax(y_sigmoid_6_visit_r_90780, axis=-1) #Permet de recuperer la classe d'apartenance"
   ]
  },
  {
   "cell_type": "code",
   "execution_count": null,
   "id": "3b549cdf-5c42-48af-97f9-9815b2a672dc",
   "metadata": {},
   "outputs": [],
   "source": [
    "#Evaluate the model on the visit 101836 in order to compare with train on 4 visit\n",
    "score_best_model_global_6_visit_r_101836 = hypermodel_6_visit_r.evaluate(x_test_101836, y_test_101836, verbose=0)\n",
    "\n",
    "y_sigmoid_6_visit_r_101836 = hypermodel_6_visit_r.predict(x_test_101836) #Table de probabilité\n",
    "df_test_101836['y_pred_best_model_global_6_visit_r_101836'] = np.argmax(y_sigmoid_6_visit_r_101836, axis=-1) #Permet de recuperer la classe d'apartenance"
   ]
  },
  {
   "cell_type": "markdown",
   "id": "1c040296-d37f-4f47-85bd-8fbe3ff51d79",
   "metadata": {
    "tags": []
   },
   "source": [
    "## Band I"
   ]
  },
  {
   "cell_type": "code",
   "execution_count": null,
   "id": "dae821ad-440a-4b15-b645-23bf4722a592",
   "metadata": {
    "tags": []
   },
   "outputs": [],
   "source": [
    "nbre_6_visit_i=[91898, 93410, 95092, 97026, 103712]\n",
    "\n"
   ]
  },
  {
   "cell_type": "code",
   "execution_count": null,
   "id": "0b3cdb8b-3a86-4b2e-b40d-7b7bb940a06e",
   "metadata": {},
   "outputs": [],
   "source": [
    "# Recovery of normalize data and dataframe which contains features\n",
    "data = retrieve_data(nbre_visit=nbre_6_visit_i, nbre_data = nbre_data)\n",
    "df_train_6_visit_i, df_test_6_visit_i, x_train_6_visit_i, x_test_6_visit_i, y_train_6_visit_i, y_test_6_visit_i = data.donnees(test_size=test_size)"
   ]
  },
  {
   "cell_type": "code",
   "execution_count": null,
   "id": "09100857-473c-4711-8ba6-8a3f85e5defd",
   "metadata": {},
   "outputs": [],
   "source": [
    "# Recovery of normalize data and dataframe which contains features\n",
    "data_90780 = retrieve_data(nbre_visit=90780)\n",
    "df_train_90780, df_test_90780, x_train_90780, x_test_90780, y_train_90780, y_test_90780 = data_90780.donnees(test_size=test_size)"
   ]
  },
  {
   "cell_type": "code",
   "execution_count": null,
   "id": "7e7c1427-00d8-4224-9853-6a45d6fe4704",
   "metadata": {},
   "outputs": [],
   "source": [
    "# Create the CNNHyperModel model\n",
    "model_6_visit_i = CNNHyperModel(input_shape=INPUT_SHAPE, num_classes=NUM_CLASSES, hyperband_max_epochs=HYPERBAND_MAX_EPOCHS,\n",
    "                      max_trials=MAX_TRIALS, executions_per_trial=EXECUTION_PER_TRIAL,\n",
    "                        x_train = x_train_6_visit_i, x_test=x_test_6_visit_i, y_train=y_train_6_visit_i, y_test=y_test_6_visit_i)\n"
   ]
  },
  {
   "cell_type": "code",
   "execution_count": null,
   "id": "1ee0fab8-b8d4-4269-96e0-81c73366400f",
   "metadata": {
    "tags": []
   },
   "outputs": [],
   "source": [
    "#Train the CNNHyperModel model\n",
    "hypermodel_6_visit_i, history_6_visit_i = model_6_visit_i.Entrainement_bayes()"
   ]
  },
  {
   "cell_type": "code",
   "execution_count": null,
   "id": "3035422b-b8d9-4e94-95c8-674a910081ec",
   "metadata": {},
   "outputs": [],
   "source": [
    "rundir = '/sps/lsst/users/rbonnetguerrini/bogus_detection_v10/'\n"
   ]
  },
  {
   "cell_type": "code",
   "execution_count": null,
   "id": "b8d83b76-51d4-4246-ba82-e6469a66af8d",
   "metadata": {
    "tags": []
   },
   "outputs": [],
   "source": [
    "hypermodel_6_visit_i.save(f'{rundir}/Compare_visit/models/model_6_visit_i.h5')"
   ]
  },
  {
   "cell_type": "code",
   "execution_count": null,
   "id": "8da853d9-95b5-498d-a173-7a4aa4c91689",
   "metadata": {},
   "outputs": [],
   "source": [
    "hypermodel_6_visit_i = tf.keras.models.load_model(f'{rundir}Compare_visit/models/model_6_visit_i.h5')"
   ]
  },
  {
   "cell_type": "code",
   "execution_count": null,
   "id": "0d9f89a1-d3b7-4ca3-a559-c353395f1c64",
   "metadata": {},
   "outputs": [],
   "source": [
    "#Evaluate the model on testing set\n",
    "score_best_model_global_6_visit_i = hypermodel_6_visit_i.evaluate(x_test_90780, y_test_90780, verbose=0)\n",
    "\n",
    "y_sigmoid_6_visit_i = hypermodel_6_visit_i.predict(x_test_90780) #Table de probabilité\n",
    "df_test_90780['y_pred_best_model_global_6_visit_i'] = np.argmax(y_sigmoid_6_visit_i, axis=-1) #Permet de recuperer la classe d'apartenance\n"
   ]
  },
  {
   "cell_type": "code",
   "execution_count": null,
   "id": "7102b191-4707-4bef-bfd9-5ee8003b98f5",
   "metadata": {},
   "outputs": [],
   "source": [
    "#Evaluate the model on testing set\n",
    "score_best_model_global_6_visit_i = hypermodel_6_visit_i.evaluate(x_test_93404, y_test_93404, verbose=0)\n",
    "\n",
    "y_sigmoid_6_visit_i = hypermodel_6_visit_i.predict(x_test_93404) #Table de probabilité\n",
    "df_test_93404['y_pred_best_model_global_6_visit_i'] = np.argmax(y_sigmoid_6_visit_i, axis=-1) #Permet de recuperer la classe d'apartenance\n"
   ]
  },
  {
   "cell_type": "code",
   "execution_count": null,
   "id": "b08e8943-3be0-4f47-a441-89987987b1db",
   "metadata": {},
   "outputs": [],
   "source": [
    "#Evaluate the model on the visit 90780 in order to compare with train on 4 visit\n",
    "score_best_model_global_6_visit_i_90780 = hypermodel_6_visit_i.evaluate(x_test_90780, y_test_90780, verbose=0)\n",
    "\n",
    "y_sigmoid_6_visit_i_90780 = hypermodel_6_visit_i.predict(x_test_90780) #Table de probabilité\n",
    "df_test_90780['y_pred_best_model_global_6_visit_i_90780'] = np.argmax(y_sigmoid_6_visit_i_90780, axis=-1) #Permet de recuperer la classe d'apartenance"
   ]
  },
  {
   "cell_type": "code",
   "execution_count": null,
   "id": "4c53c446-8918-487a-a0b6-6d313e35269d",
   "metadata": {},
   "outputs": [],
   "source": [
    "#Evaluate the model on the visit 101836 in order to compare with train on 4 visit\n",
    "score_best_model_global_6_visit_i_101836 = hypermodel_6_visit_i.evaluate(x_test_101836, y_test_101836, verbose=0)\n",
    "\n",
    "y_sigmoid_6_visit_i_101836 = hypermodel_6_visit_i.predict(x_test_101836) #Table de probabilité\n",
    "df_test_101836['y_pred_best_model_global_6_visit_i_101836'] = np.argmax(y_sigmoid_6_visit_i_101836, axis=-1) #Permet de recuperer la classe d'apartenance"
   ]
  },
  {
   "cell_type": "markdown",
   "id": "b49da7f8-37d8-4b9f-9823-074ac19aab18",
   "metadata": {
    "tags": []
   },
   "source": [
    "## Band Z"
   ]
  },
  {
   "cell_type": "code",
   "execution_count": null,
   "id": "c8a35b82-c191-4cd7-bb24-d8bd5dac0546",
   "metadata": {
    "tags": []
   },
   "outputs": [],
   "source": [
    "nbre_6_visit_z= [91922, 92502, 95084, 96222, 100824, 102426]"
   ]
  },
  {
   "cell_type": "code",
   "execution_count": null,
   "id": "8181ef34-16b9-4764-bbfd-3603d5bf559c",
   "metadata": {},
   "outputs": [],
   "source": [
    "# Recovery of normalize data and dataframe which contains features\n",
    "data = retrieve_data(nbre_visit=nbre_6_visit_z, nbre_data = nbre_data)\n",
    "df_train_6_visit_z, df_test_6_visit_z, x_train_6_visit_z, x_test_6_visit_z, y_train_6_visit_z, y_test_6_visit_z = data.donnees(test_size=test_size)"
   ]
  },
  {
   "cell_type": "code",
   "execution_count": null,
   "id": "52ec1f74-1179-49f0-9709-3a39271dcef2",
   "metadata": {},
   "outputs": [],
   "source": [
    "# Recovery of normalize data and dataframe which contains features\n",
    "data_89762 = retrieve_data(nbre_visit=89762)\n",
    "df_train_89762, df_test_89762, x_train_89762, x_test_89762, y_train_89762, y_test_89762 = data_89762.donnees(test_size=test_size)"
   ]
  },
  {
   "cell_type": "code",
   "execution_count": null,
   "id": "8c785d59-4a47-4653-8b78-2f22096e0906",
   "metadata": {},
   "outputs": [],
   "source": [
    "# Create the CNNHyperModel model\n",
    "model_6_visit_z = CNNHyperModel(input_shape=INPUT_SHAPE, num_classes=NUM_CLASSES, hyperband_max_epochs=HYPERBAND_MAX_EPOCHS,\n",
    "                      max_trials=MAX_TRIALS, executions_per_trial=EXECUTION_PER_TRIAL,\n",
    "                        x_train = x_train_6_visit_z, x_test=x_test_6_visit_z, y_train=y_train_6_visit_z, y_test=y_test_6_visit_z)\n"
   ]
  },
  {
   "cell_type": "code",
   "execution_count": null,
   "id": "2dfa4ebb-c64d-4937-9c62-8daa669a3c35",
   "metadata": {
    "tags": []
   },
   "outputs": [],
   "source": [
    "#Train the CNNHyperModel model\n",
    "hypermodel_6_visit_z, history_6_visit_z = model_6_visit_z.Entrainement_bayes()"
   ]
  },
  {
   "cell_type": "code",
   "execution_count": null,
   "id": "e2c3352e-b415-4e51-b6de-b21989b4fd19",
   "metadata": {},
   "outputs": [],
   "source": [
    "rundir = '/sps/lsst/users/rbonnetguerrini/bogus_detection_v10/'\n"
   ]
  },
  {
   "cell_type": "code",
   "execution_count": null,
   "id": "8b0d811d-2f63-4a9a-881d-d53715313402",
   "metadata": {
    "tags": []
   },
   "outputs": [],
   "source": [
    "hypermodel_6_visit_z.save(f'{rundir}/Compare_visit/models/model_6_visit_z.h5')"
   ]
  },
  {
   "cell_type": "code",
   "execution_count": null,
   "id": "75e06f19-39b2-4be9-83ff-261219c26136",
   "metadata": {},
   "outputs": [],
   "source": [
    "hypermodel_6_visit_z = tf.keras.models.load_model(f'{rundir}Compare_visit/models/model_6_visit_z.h5')"
   ]
  },
  {
   "cell_type": "code",
   "execution_count": null,
   "id": "3557b834-2afe-48a4-81c4-02332cbe35a5",
   "metadata": {},
   "outputs": [],
   "source": [
    "#Evaluate the model on testing set\n",
    "score_best_model_global_6_visit_z = hypermodel_6_visit_z.evaluate(x_test_89762, y_test_89762, verbose=0)\n",
    "\n",
    "y_sigmoid_6_visit_z = hypermodel_6_visit_z.predict(x_test_89762) #Table de probabilité\n",
    "\n",
    "\n",
    "df_test_89762['y_pred_best_model_global_6_visit_z'] = np.argmax(y_sigmoid_6_visit_z, axis=-1) #Permet de recuperer la classe d'apartenance\n"
   ]
  },
  {
   "cell_type": "code",
   "execution_count": null,
   "id": "4fa9030b-f87c-4af1-b65f-2cea24eeb342",
   "metadata": {},
   "outputs": [],
   "source": [
    "#Evaluate the model on testing set\n",
    "score_best_model_global_6_visit_z = hypermodel_6_visit_z.evaluate(x_test_93404, y_test_93404, verbose=0)\n",
    "\n",
    "y_sigmoid_6_visit_z = hypermodel_6_visit_z.predict(x_test_93404) #Table de probabilité\n",
    "df_test_93404['y_pred_best_model_global_6_visit_z'] = np.argmax(y_sigmoid_6_visit_z, axis=-1) #Permet de recuperer la classe d'apartenance\n"
   ]
  },
  {
   "cell_type": "code",
   "execution_count": null,
   "id": "01f05ea2-672a-40f9-8cc0-ba1572dc0d56",
   "metadata": {},
   "outputs": [],
   "source": [
    "#Evaluate the model on the visit 90780 in order to compare with train on 4 visit\n",
    "score_best_model_global_6_visit_z_90780 = hypermodel_6_visit_z.evaluate(x_test_90780, y_test_90780, verbose=0)\n",
    "\n",
    "y_sigmoid_6_visit_z_90780 = hypermodel_6_visit_z.predict(x_test_90780) #Table de probabilité\n",
    "df_test_90780['y_pred_best_model_global_6_visit_z_90780'] = np.argmax(y_sigmoid_6_visit_z_90780, axis=-1) #Permet de recuperer la classe d'apartenance"
   ]
  },
  {
   "cell_type": "code",
   "execution_count": null,
   "id": "c77935b5-4a1b-4402-b63c-fba1b7d2995b",
   "metadata": {},
   "outputs": [],
   "source": [
    "#Evaluate the model on the visit 101836 in order to compare with train on 4 visit\n",
    "score_best_model_global_6_visit_z_101836 = hypermodel_6_visit_z.evaluate(x_test_101836, y_test_101836, verbose=0)\n",
    "\n",
    "y_sigmoid_6_visit_z_101836 = hypermodel_6_visit_z.predict(x_test_101836) #Table de probabilité\n",
    "df_test_101836['y_pred_best_model_global_6_visit_z_101836'] = np.argmax(y_sigmoid_6_visit_z_101836, axis=-1) #Permet de recuperer la classe d'apartenance"
   ]
  },
  {
   "cell_type": "markdown",
   "id": "51b5b31e-6aea-4688-af02-7b5abf253b65",
   "metadata": {
    "tags": []
   },
   "source": [
    "## Band Y"
   ]
  },
  {
   "cell_type": "code",
   "execution_count": null,
   "id": "5bc4d4ed-5808-4f96-bace-d2dcdea019d7",
   "metadata": {
    "tags": []
   },
   "outputs": [],
   "source": [
    "nbre_6_visit_y=[97608, 102128, 104180, 105560, 105748, 108242]\n"
   ]
  },
  {
   "cell_type": "code",
   "execution_count": null,
   "id": "0e807558-4bc6-495f-aa50-bc29f72fef72",
   "metadata": {},
   "outputs": [],
   "source": [
    "# Recovery of normalize data and dataframe which contains features\n",
    "data = retrieve_data(nbre_visit=nbre_6_visit_y, nbre_data = nbre_data)\n",
    "df_train_6_visit_y, df_test_6_visit_y, x_train_6_visit_y, x_test_6_visit_y, y_train_6_visit_y, y_test_6_visit_y = data.donnees(test_size=test_size)"
   ]
  },
  {
   "cell_type": "code",
   "execution_count": null,
   "id": "35b810ba-5f31-435e-8e6a-e37ec76a42cc",
   "metadata": {},
   "outputs": [],
   "source": [
    "# Recovery of normalize data and dataframe which contains features\n",
    "data_110398 = retrieve_data(nbre_visit=110398)\n",
    "df_train_110398, df_test_110398, x_train_110398, x_test_110398, y_train_110398, y_test_110398 = data_110398.donnees(test_size=test_size)"
   ]
  },
  {
   "cell_type": "code",
   "execution_count": null,
   "id": "0c6e8b88-5ba1-4260-9b21-eda4d1e3c7c6",
   "metadata": {},
   "outputs": [],
   "source": [
    "# Create the CNNHyperModel model\n",
    "model_6_visit_y = CNNHyperModel(input_shape=INPUT_SHAPE, num_classes=NUM_CLASSES, hyperband_max_epochs=HYPERBAND_MAX_EPOCHS,\n",
    "                      max_trials=MAX_TRIALS, executions_per_trial=EXECUTION_PER_TRIAL,\n",
    "                        x_train = x_train_6_visit_y, x_test=x_test_6_visit_y, y_train=y_train_6_visit_y, y_test=y_test_6_visit_y)\n"
   ]
  },
  {
   "cell_type": "code",
   "execution_count": null,
   "id": "a6482464-7e5f-4d79-900f-600c8c024866",
   "metadata": {
    "tags": []
   },
   "outputs": [],
   "source": [
    "#Train the CNNHyperModel model\n",
    "hypermodel_6_visit_y, history_6_visit_y = model_6_visit_y.Entrainement_bayes()"
   ]
  },
  {
   "cell_type": "code",
   "execution_count": null,
   "id": "352063d1-1a1e-4384-8e74-035f61cc69dc",
   "metadata": {},
   "outputs": [],
   "source": [
    "rundir = '/sps/lsst/users/rbonnetguerrini/bogus_detection_v10/'\n"
   ]
  },
  {
   "cell_type": "code",
   "execution_count": null,
   "id": "c9b49977-83d2-4d63-bc56-4c0beeaef48f",
   "metadata": {
    "tags": []
   },
   "outputs": [],
   "source": [
    "hypermodel_6_visit_y.save(f'{rundir}/Compare_visit/models/model_6_visit_y.h5')"
   ]
  },
  {
   "cell_type": "code",
   "execution_count": null,
   "id": "fb86a03a-0936-43a4-8a46-43c38df16c32",
   "metadata": {},
   "outputs": [],
   "source": [
    "hypermodel_6_visit_y = tf.keras.models.load_model(f'{rundir}Compare_visit/models/model_6_visit_y.h5')"
   ]
  },
  {
   "cell_type": "code",
   "execution_count": null,
   "id": "cbc69314-294c-4bca-b847-ff0f6e579eab",
   "metadata": {},
   "outputs": [],
   "source": [
    "#Evaluate the model on testing set\n",
    "score_best_model_global_6_visit_y = hypermodel_6_visit_y.evaluate(x_test_110398, y_test_110398, verbose=0)\n",
    "\n",
    "y_sigmoid_6_visit_y = hypermodel_6_visit_y.predict(x_test_110398) #Table de probabilité\n",
    "\n",
    "\n",
    "df_test_110398['y_pred_best_model_global_6_visit_y'] = np.argmax(y_sigmoid_6_visit_y, axis=-1) #Permet de recuperer la classe d'apartenance\n"
   ]
  },
  {
   "cell_type": "code",
   "execution_count": null,
   "id": "d6f75e41-ef36-4eb1-9145-f5145b1a3034",
   "metadata": {},
   "outputs": [],
   "source": [
    "#Evaluate the model on testing set\n",
    "score_best_model_global_6_visit_y = hypermodel_6_visit_y.evaluate(x_test_93404, y_test_93404, verbose=0)\n",
    "\n",
    "y_sigmoid_6_visit_y = hypermodel_6_visit_y.predict(x_test_93404) #Table de probabilité\n",
    "df_test_93404['y_pred_best_model_global_6_visit_y'] = np.argmax(y_sigmoid_6_visit_y, axis=-1) #Permet de recuperer la classe d'apartenance\n"
   ]
  },
  {
   "cell_type": "code",
   "execution_count": null,
   "id": "95806e28-eefb-4390-943a-84e36839cf1b",
   "metadata": {},
   "outputs": [],
   "source": [
    "#Evaluate the model on the visit 90780 in order to compare with train on 4 visit\n",
    "score_best_model_global_6_visit_y_90780 = hypermodel_6_visit_y.evaluate(x_test_90780, y_test_90780, verbose=0)\n",
    "\n",
    "y_sigmoid_6_visit_y_90780 = hypermodel_6_visit_y.predict(x_test_90780) #Table de probabilité\n",
    "df_test_90780['y_pred_best_model_global_6_visit_y_90780'] = np.argmax(y_sigmoid_6_visit_y_90780, axis=-1) #Permet de recuperer la classe d'apartenance"
   ]
  },
  {
   "cell_type": "code",
   "execution_count": null,
   "id": "80404d48-8938-4481-b1a6-6e4e1401a601",
   "metadata": {},
   "outputs": [],
   "source": [
    "#Evaluate the model on the visit 101836 in order to compare with train on 4 visit\n",
    "score_best_model_global_6_visit_y_101836 = hypermodel_6_visit_y.evaluate(x_test_101836, y_test_101836, verbose=0)\n",
    "\n",
    "y_sigmoid_6_visit_y_101836 = hypermodel_6_visit_y.predict(x_test_101836) #Table de probabilité\n",
    "df_test_101836['y_pred_best_model_global_6_visit_y_101836'] = np.argmax(y_sigmoid_6_visit_y_101836, axis=-1) #Permet de recuperer la classe d'apartenance"
   ]
  },
  {
   "cell_type": "markdown",
   "id": "f85007b7-0d2a-4ec8-aadc-b53f7b3d9d9f",
   "metadata": {},
   "source": [
    "## Comparison all filter"
   ]
  },
  {
   "cell_type": "code",
   "execution_count": null,
   "id": "a3a4486d-7319-4fb4-921a-5200249d0131",
   "metadata": {},
   "outputs": [],
   "source": [
    "#test on their own band\n",
    "df_test_90752['y_pred_best_model_global_6_visit_g']\n",
    "df_test_93404['y_pred_best_model_global_6_visit_r']\n",
    "df_test_90780['y_pred_best_model_global_6_visit_i']\n",
    "df_test_89762['y_pred_best_model_global_6_visit_z'] \n",
    "df_test_110398['y_pred_best_model_global_6_visit_y']"
   ]
  },
  {
   "cell_type": "markdown",
   "id": "7a779575-95d7-47f1-8879-c6a79f29b0b9",
   "metadata": {},
   "source": [
    "# Evaluation "
   ]
  },
  {
   "cell_type": "code",
   "execution_count": null,
   "id": "34586685-2d68-4a7a-9851-382faa959b26",
   "metadata": {},
   "outputs": [],
   "source": [
    "multiple_band_visits = [95092, 91556, 101500, 104516]\n"
   ]
  },
  {
   "cell_type": "code",
   "execution_count": null,
   "id": "10883ec2-3637-44e2-bf81-bf9ffa91381a",
   "metadata": {},
   "outputs": [],
   "source": [
    "model_ = 'model_4_visit'\n",
    "evaluation_4_visit = evaluating_model(model=model_, visit=multiple_band_visits)\n",
    "evaluation_4_visit.full_evaluation_plot()"
   ]
  },
  {
   "cell_type": "code",
   "execution_count": null,
   "id": "50cf7890-ec5c-4ca0-bc89-d44fcd2ca39a",
   "metadata": {},
   "outputs": [],
   "source": [
    "model_ = 'model_6_visit'\n",
    "evaluation_6_visit = evaluating_model(model=model_, visit=multiple_band_visits)\n",
    "evaluation_6_visit.full_evaluation_plot()"
   ]
  },
  {
   "cell_type": "code",
   "execution_count": null,
   "id": "cb049b54-93a4-49ab-879a-441cf51b5310",
   "metadata": {},
   "outputs": [],
   "source": [
    "model_ = 'model_12_visit'\n",
    "evaluation_12_visit = evaluating_model(model=model_, visit=multiple_band_visits)\n",
    "evaluation_12_visit.full_evaluation_plot()"
   ]
  },
  {
   "cell_type": "code",
   "execution_count": null,
   "id": "8cd37c9a-592c-448c-84be-2b4e34b42f4e",
   "metadata": {},
   "outputs": [],
   "source": [
    "model_ = 'model_42_visit'\n",
    "evaluation_42_visit = evaluating_model(model=model_, visit=multiple_band_visits)\n",
    "evaluation_42_visit.full_evaluation_plot()"
   ]
  },
  {
   "cell_type": "code",
   "execution_count": null,
   "id": "a2b0d0a5-0300-4b26-a175-a139c0e879c0",
   "metadata": {},
   "outputs": [],
   "source": [
    "model_ = 'model_all_gen3'\n",
    "evaluation_gen3_visit = evaluating_model(model=model_, visit=multiple_band_visits)\n",
    "evaluation_gen3_visit.full_evaluation_plot()"
   ]
  },
  {
   "cell_type": "code",
   "execution_count": null,
   "id": "84b9f177-0a66-4ea7-8c0b-e353a27dbdd4",
   "metadata": {},
   "outputs": [],
   "source": [
    "model_ = 'model_100764'\n",
    "evaluation_100764 = evaluating_model(model=model_, visit=multiple_band_visits)\n",
    "evaluation_100764.full_evaluation_plot()"
   ]
  },
  {
   "cell_type": "code",
   "execution_count": null,
   "id": "4eb1cd7f-da28-4447-94af-18a32bbec9e5",
   "metadata": {},
   "outputs": [],
   "source": [
    "model_ = 'model_101836'\n",
    "evaluation_101836 = evaluating_model(model=model_, visit=multiple_band_visits)\n",
    "evaluation_101836.full_evaluation_plot()"
   ]
  },
  {
   "cell_type": "code",
   "execution_count": null,
   "id": "c421dd88-1b0b-47c5-bc55-7944b85d5b8b",
   "metadata": {},
   "outputs": [],
   "source": [
    "model_ = 'model_89762'\n",
    "evaluation_89762 = evaluating_model(model=model_, visit=multiple_band_visits)\n",
    "evaluation_89762.full_evaluation_plot()"
   ]
  },
  {
   "cell_type": "code",
   "execution_count": null,
   "id": "bd7cd483-0ac7-441b-9253-ab070172876b",
   "metadata": {},
   "outputs": [],
   "source": [
    "model_ = 'model_90780'\n",
    "evaluation_90780 = evaluating_model(model=model_, visit=multiple_band_visits)\n",
    "evaluation_90780.full_evaluation_plot()"
   ]
  },
  {
   "cell_type": "code",
   "execution_count": null,
   "id": "a53ba81a-609a-455f-8bd5-a97a5401482c",
   "metadata": {},
   "outputs": [],
   "source": [
    "model_ = 'model_90780_removed'\n",
    "evaluation_90780_removed = evaluating_model(model=model_, visit=multiple_band_visits)\n",
    "evaluation_90780_removed.full_evaluation_plot()"
   ]
  },
  {
   "cell_type": "code",
   "execution_count": null,
   "id": "2b766f83-9b5c-470f-a152-83dac8f84f44",
   "metadata": {},
   "outputs": [],
   "source": []
  },
  {
   "cell_type": "code",
   "execution_count": null,
   "id": "d6cb9568-125f-40fb-a750-4390223cddf1",
   "metadata": {},
   "outputs": [],
   "source": []
  },
  {
   "cell_type": "code",
   "execution_count": null,
   "id": "9adb6194-e179-492b-b0f0-ca192bec59b0",
   "metadata": {},
   "outputs": [],
   "source": []
  },
  {
   "cell_type": "code",
   "execution_count": null,
   "id": "34cfe306-0d78-4eb8-8f03-5d67e0e63533",
   "metadata": {},
   "outputs": [],
   "source": []
  }
 ],
 "metadata": {
  "kernelspec": {
   "display_name": "ML4transients_env",
   "language": "python",
   "name": "ml4transients_env"
  },
  "language_info": {
   "codemirror_mode": {
    "name": "ipython",
    "version": 3
   },
   "file_extension": ".py",
   "mimetype": "text/x-python",
   "name": "python",
   "nbconvert_exporter": "python",
   "pygments_lexer": "ipython3",
   "version": "3.8.8"
  }
 },
 "nbformat": 4,
 "nbformat_minor": 5
}
